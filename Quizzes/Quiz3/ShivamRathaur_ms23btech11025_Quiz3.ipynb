{
 "cells": [
  {
   "cell_type": "code",
   "execution_count": 4,
   "metadata": {},
   "outputs": [
    {
     "name": "stdout",
     "output_type": "stream",
     "text": [
      "38\n"
     ]
    }
   ],
   "source": [
    "# Q1 solution\n",
    "'''\n",
    "line 3 will produce an error # C = A * B\n",
    "\n",
    "'''\n",
    "\n",
    "# correction of code\n",
    "import numpy as np\n",
    "A = np.array([1, 2, 3, 4])\n",
    "B = np.array([5, 6, 7])\n",
    "\n",
    "C = A[:len(B)] * B\n",
    "total_sum = np.sum(C)\n",
    "print(total_sum)"
   ]
  },
  {
   "cell_type": "code",
   "execution_count": 11,
   "metadata": {},
   "outputs": [
    {
     "name": "stdout",
     "output_type": "stream",
     "text": [
      "[[ 1.  0. -3.]\n",
      " [ 4.  0. -6.]]\n",
      "(2, 3)\n",
      "[[[ 1.]\n",
      "  [ 0.]]\n",
      "\n",
      " [[-3.]\n",
      "  [ 4.]]\n",
      "\n",
      " [[ 0.]\n",
      "  [-6.]]]\n",
      "(3, 2, 1)\n",
      "[[[ 4.5]\n",
      "  [ 3.5]]\n",
      "\n",
      " [[ 0.5]\n",
      "  [ 7.5]]\n",
      "\n",
      " [[ 3.5]\n",
      "  [-2.5]]]\n",
      "(3, 2, 1)\n"
     ]
    }
   ],
   "source": [
    "# Q2 Solution\n",
    "import numpy as np\n",
    "\n",
    "A = np.array([[1, 2, 3], [4, 5, 6]], dtype=np.float32)\n",
    "B = np.array([1, 0, -1], dtype=np.int32)\n",
    "\n",
    "C = A * B\n",
    "print(C)\n",
    "print(C.shape)\n",
    "# There is no issue in the broadcasting \n",
    "\n",
    "D = C.reshape(3, 2, 1)\n",
    "print(D)\n",
    "print(D.shape)\n",
    "\n",
    "\n",
    "\n",
    "E = D + 3.5\n",
    "\n",
    "print(E)\n",
    "print(E.shape)"
   ]
  },
  {
   "cell_type": "code",
   "execution_count": 7,
   "metadata": {},
   "outputs": [
    {
     "name": "stdout",
     "output_type": "stream",
     "text": [
      "[[ -3 100]\n",
      " [ 89  -3]\n",
      " [ 79  80]\n",
      " [ -3  70]\n",
      " [ 59  -3]\n",
      " [ 49  50]\n",
      " [ -3  40]\n",
      " [ 29  -3]\n",
      " [ 19  20]\n",
      " [ -3  10]]\n"
     ]
    }
   ],
   "source": [
    "# Q3 solution\n",
    "import numpy as np\n",
    "\n",
    "A = np.arange(1, 101)\n",
    "matrix_A = A.reshape(10, 10) \n",
    "matrix_A[matrix_A % 3 == 0] = -3 \n",
    "matrix_A = matrix_A[::-1]\n",
    "last_two_columns = matrix_A[:, -2:]\n",
    "\n",
    "print(last_two_columns)\n"
   ]
  },
  {
   "cell_type": "code",
   "execution_count": null,
   "metadata": {},
   "outputs": [],
   "source": []
  }
 ],
 "metadata": {
  "kernelspec": {
   "display_name": "Python 3",
   "language": "python",
   "name": "python3"
  },
  "language_info": {
   "codemirror_mode": {
    "name": "ipython",
    "version": 3
   },
   "file_extension": ".py",
   "mimetype": "text/x-python",
   "name": "python",
   "nbconvert_exporter": "python",
   "pygments_lexer": "ipython3",
   "version": "3.12.4"
  }
 },
 "nbformat": 4,
 "nbformat_minor": 2
}
