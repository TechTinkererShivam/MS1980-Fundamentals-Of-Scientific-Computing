{
  "cells": [
    {
      "cell_type": "markdown",
      "metadata": {
        "id": "6QAwbCVNMY62"
      },
      "source": [
        "Question 1.\n",
        "\n",
        "The following code attempts to multiply two NumPy arrays elementwise and compute their sum. But it contains errors. Identify and correct the lines that need to be changed. Note that the shape and the elements of B needs to be preserved. You can alter the shape of A but all elements of A should be preserved."
      ]
    },
    {
      "cell_type": "code",
      "execution_count": null,
      "metadata": {},
      "outputs": [],
      "source": [
        "'''\n",
        "import numpy as np\n",
        "\n",
        "A = np.array([1, 2, 3, 4])\n",
        "B = np.array([5, 6, 7])\n",
        "\n",
        "# Attempt to perform element-wise multiplication and compute the sum\n",
        "C = A * B\n",
        "total_sum = np.sum(C)\n",
        "print(total_sum)\n",
        "\n",
        "'''"
      ]
    },
    {
      "cell_type": "markdown",
      "metadata": {},
      "source": [
        "\n",
        "\n",
        "    a. Identify the line(s) in the code that will produce an error.\n",
        "    b. Correct the code so that it can multiply the arrays element-wise and compute the sum, without changing the shape of B?"
      ]
    },
    {
      "cell_type": "code",
      "execution_count": null,
      "metadata": {},
      "outputs": [],
      "source": [
        "# Q1 Solution\n"
      ]
    },
    {
      "cell_type": "markdown",
      "metadata": {
        "id": "Ot8bXeqIOzIg"
      },
      "source": [
        "Question 2.\n",
        "\n",
        "The following code attempts to create two NumPy arrays, multiply them in a tricky way, and then reshape the result into a 3D array. However, the code will produce several errors or unexpected results. Your task is to identify all issues and correct the code so it behaves as expected.\n",
        "\n",
        "a. Identify all lines that will produce errors or unexpected behavior.\n",
        "\n",
        "b. Correct the code so that it:\n",
        "   1. Multiplies A and B using broadcasting.\n",
        "   2. Reshapes the result into a valid 3D array.\n",
        "   3. Correctly adds the scalar 3.5 to all elements of the array."
      ]
    },
    {
      "cell_type": "code",
      "execution_count": null,
      "metadata": {
        "id": "EvlYWchLQFUU"
      },
      "outputs": [],
      "source": [
        "import numpy as np\n",
        "\n",
        "A = np.array([[1, 2, 3], [4, 5, 6]], dtype=np.float32)\n",
        "B = np.array([1, 0, -1], dtype=np.int32)\n",
        "\n",
        "# Step 1: Perform element-wise multiplication with broadcasting\n",
        "C = A * B\n",
        "\n",
        "print(C.shape)\n",
        "# Step 2: Reshape the result into a (3, 2, 1) array\n",
        "D = C.reshape(3, 2, 1)\n",
        "\n",
        "# Step 3: Add a scalar (3.5) to all elements of the reshaped array\n",
        "E = D + 3.5\n",
        "\n",
        "print(E)\n",
        "print(E.shape)"
      ]
    },
    {
      "cell_type": "markdown",
      "metadata": {
        "id": "wyWzwGK_SfkN"
      },
      "source": [
        "Identify all the issues in this code related to views, copies, and reshaping.\n",
        "\n",
        "Correct the code so that:\n",
        "\n",
        "    1. Modifying B reflects in A, as expected.\n",
        "    2. Modifying C does not affect A.\n",
        "    3. Also correct a reshape error without making changes to the number of elements of the given arrays\n",
        "\n",
        "Explain why these changes are necessary."
      ]
    },
    {
      "cell_type": "markdown",
      "metadata": {
        "id": "GuHDdskKW2vX"
      },
      "source": [
        "Question 3.\n",
        "\n",
        "You are given a 1D NumPy array A with 100 elements:\n",
        "\n",
        "import numpy as np\n",
        "A = np.arange(1, 101)\n",
        "\n",
        "    1. Reshape A into a 10x10 matrix.\n",
        "    2. Replace all the elements in the matrix that are divisible by 3 with -3.\n",
        "    3. Reverse the order of the rows of the matrix.\n",
        "    4. Extract the last two columns of the modified matrix.\n",
        "\n",
        "What are the contents of the last two columns in the modified matrix\n"
      ]
    },
    {
      "cell_type": "code",
      "execution_count": null,
      "metadata": {
        "id": "CxcQZhwdhNJc"
      },
      "outputs": [],
      "source": []
    }
  ],
  "metadata": {
    "colab": {
      "provenance": []
    },
    "kernelspec": {
      "display_name": "Python 3",
      "name": "python3"
    },
    "language_info": {
      "name": "python"
    }
  },
  "nbformat": 4,
  "nbformat_minor": 0
}
