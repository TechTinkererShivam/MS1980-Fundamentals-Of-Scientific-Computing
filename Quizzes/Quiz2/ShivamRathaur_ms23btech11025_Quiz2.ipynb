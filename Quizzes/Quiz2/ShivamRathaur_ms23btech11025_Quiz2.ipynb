{
 "cells": [
  {
   "cell_type": "code",
   "execution_count": 43,
   "metadata": {},
   "outputs": [
    {
     "name": "stdout",
     "output_type": "stream",
     "text": [
      "3\n"
     ]
    }
   ],
   "source": [
    "# Q1\n",
    "# using recursion\n",
    "def fibonacci(num):\n",
    "    if(num==1):\n",
    "        return 0\n",
    "    if(num==2):\n",
    "        return 1\n",
    "    return fibonacci(num-1)+fibonacci(num-2)\n",
    "\n",
    "num = 5\n",
    "print(fibonacci(num))\n"
   ]
  },
  {
   "cell_type": "code",
   "execution_count": 42,
   "metadata": {},
   "outputs": [
    {
     "name": "stdout",
     "output_type": "stream",
     "text": [
      "5\n"
     ]
    }
   ],
   "source": [
    "# Q1 solution\n",
    "\n",
    "# not using recursion\n",
    "n = 6\n",
    "n1 = 0\n",
    "n2 = 1\n",
    "num = n1 + n2\n",
    "\n",
    "for i in range(3,n):\n",
    "    n1 = n2\n",
    "    n2 = num\n",
    "    num = n1 + n2\n",
    "\n",
    "print(num)\n",
    "\n",
    "    "
   ]
  },
  {
   "cell_type": "code",
   "execution_count": null,
   "metadata": {},
   "outputs": [],
   "source": []
  },
  {
   "cell_type": "code",
   "execution_count": 26,
   "metadata": {},
   "outputs": [
    {
     "name": "stdout",
     "output_type": "stream",
     "text": [
      "9\n",
      "5\n"
     ]
    }
   ],
   "source": [
    "# Q2 solution\n",
    "list = [3,1, 4, 1, 5, 9, 2]\n",
    "l1 = list[0]\n",
    "for num in list:\n",
    "    if(num>l1):\n",
    "        l1 = num\n",
    "print(l1)\n",
    "\n",
    "l2 = list[0]\n",
    "for num in list:\n",
    "    if(num>l2 and num!=l1):\n",
    "        l2 = num\n",
    "\n",
    "if(l1==l2):\n",
    "    l2 = None        \n",
    "\n",
    "print(l2)\n",
    "   \n",
    "\n"
   ]
  },
  {
   "cell_type": "code",
   "execution_count": null,
   "metadata": {},
   "outputs": [],
   "source": [
    "# Q3 solution\n",
    "\n",
    "'''\n",
    "def foo(x, items=[]):\n",
    "    items.append(x) \n",
    "    return items\n",
    "    \n",
    "    \n",
    "print(foo(1)) # [1]\n",
    "print(foo(2)) # [1, 2]\n",
    "print(foo(3, [])) # [3]\n",
    "print(foo(4)) # [1, 2, 4]\n",
    "\n",
    "'''\n",
    "\n",
    "'''\n",
    "Initially items literal is refering the an empty list []\n",
    "foo(1) & foo(2) will be appended to the items list \n",
    "But when foo(3) & [] will be passed as an argument , 3 will be appended to the new empty list\n",
    "foo(4) will be appended to the items list  \n",
    "\n",
    "'''\n",
    "\n",
    "# Corrected version of code is given below"
   ]
  },
  {
   "cell_type": "code",
   "execution_count": 28,
   "metadata": {},
   "outputs": [
    {
     "name": "stdout",
     "output_type": "stream",
     "text": [
      "[1]\n",
      "[1, 2]\n",
      "[1, 2, 3]\n",
      "[1, 2, 3, 4]\n"
     ]
    }
   ],
   "source": [
    "def foo(x, items=[]):\n",
    "    items.append(x) \n",
    "    return items\n",
    "\n",
    "print(foo(1)) # [1]\n",
    "print(foo(2)) # [1, 2]\n",
    "print(foo(3)) # [1, 2, 3]\n",
    "print(foo(4)) # [1, 2, 3, 4]"
   ]
  },
  {
   "cell_type": "code",
   "execution_count": 31,
   "metadata": {},
   "outputs": [
    {
     "name": "stdout",
     "output_type": "stream",
     "text": [
      "[0.83364893 0.66273375 0.80690126 0.74693782 0.09352536]\n",
      "3.1437471162290835\n"
     ]
    }
   ],
   "source": [
    "# Q4 solution\n",
    "\n",
    "import numpy as np\n",
    "k = 5\n",
    "arr = np.random.rand(k)\n",
    "print(arr)\n",
    "\n",
    "sum = 0\n",
    "for i in arr:\n",
    "    sum += i\n",
    "\n",
    "print(sum)    \n"
   ]
  }
 ],
 "metadata": {
  "kernelspec": {
   "display_name": "Python 3",
   "language": "python",
   "name": "python3"
  },
  "language_info": {
   "codemirror_mode": {
    "name": "ipython",
    "version": 3
   },
   "file_extension": ".py",
   "mimetype": "text/x-python",
   "name": "python",
   "nbconvert_exporter": "python",
   "pygments_lexer": "ipython3",
   "version": "3.12.4"
  }
 },
 "nbformat": 4,
 "nbformat_minor": 2
}
