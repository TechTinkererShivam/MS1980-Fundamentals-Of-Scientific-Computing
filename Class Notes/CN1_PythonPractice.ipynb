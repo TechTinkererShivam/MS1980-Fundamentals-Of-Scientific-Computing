{
  "cells": [
    {
      "cell_type": "code",
      "execution_count": null,
      "id": "ce6b0659-4727-489d-9f2d-81825efee836",
      "metadata": {
        "id": "ce6b0659-4727-489d-9f2d-81825efee836"
      },
      "outputs": [],
      "source": [
        "x=1\n",
        "x"
      ]
    },
    {
      "cell_type": "code",
      "execution_count": null,
      "id": "af6def11-d717-4104-a1e1-86af9b7838e0",
      "metadata": {
        "id": "af6def11-d717-4104-a1e1-86af9b7838e0"
      },
      "outputs": [],
      "source": [
        "y=3\n",
        "y"
      ]
    },
    {
      "cell_type": "code",
      "execution_count": null,
      "id": "3b52ba06-2bc4-446b-869a-94e2d8bd54ba",
      "metadata": {
        "id": "3b52ba06-2bc4-446b-869a-94e2d8bd54ba"
      },
      "outputs": [],
      "source": [
        "%whos"
      ]
    },
    {
      "cell_type": "code",
      "execution_count": null,
      "id": "8d4b0639-0bc7-4be7-b56d-73771b458056",
      "metadata": {
        "id": "8d4b0639-0bc7-4be7-b56d-73771b458056"
      },
      "outputs": [],
      "source": [
        "z = x + y\n",
        "z"
      ]
    },
    {
      "cell_type": "code",
      "execution_count": null,
      "id": "daa0fd11-4203-4043-bd25-daaa38b571ad",
      "metadata": {
        "id": "daa0fd11-4203-4043-bd25-daaa38b571ad"
      },
      "outputs": [],
      "source": [
        "%whos"
      ]
    },
    {
      "cell_type": "code",
      "execution_count": null,
      "id": "3285c5d0-31da-45e1-8208-8a9cac0ac358",
      "metadata": {
        "id": "3285c5d0-31da-45e1-8208-8a9cac0ac358"
      },
      "outputs": [],
      "source": [
        "print(\"I Love IITH\")   #this is a string"
      ]
    },
    {
      "cell_type": "code",
      "execution_count": null,
      "id": "5b2ff08e-4345-4a0d-b02c-e30d72ae2fc8",
      "metadata": {
        "id": "5b2ff08e-4345-4a0d-b02c-e30d72ae2fc8"
      },
      "outputs": [],
      "source": [
        "print(\"Hello World\")  #another string"
      ]
    },
    {
      "cell_type": "code",
      "execution_count": null,
      "id": "feb81404-787b-4f02-ab0a-a39ddcde9546",
      "metadata": {
        "id": "feb81404-787b-4f02-ab0a-a39ddcde9546"
      },
      "outputs": [],
      "source": [
        "s = \"Hello World!\"\n",
        "type(s)"
      ]
    },
    {
      "cell_type": "code",
      "execution_count": null,
      "id": "7b963f5a-0008-4706-a0ca-8109836c654f",
      "metadata": {
        "id": "7b963f5a-0008-4706-a0ca-8109836c654f"
      },
      "outputs": [],
      "source": [
        "s1 = \" \""
      ]
    },
    {
      "cell_type": "code",
      "execution_count": null,
      "id": "0b6efee4-1b10-4edc-bdc2-6a91af8a7f2a",
      "metadata": {
        "id": "0b6efee4-1b10-4edc-bdc2-6a91af8a7f2a"
      },
      "outputs": [],
      "source": [
        "type(s1)"
      ]
    },
    {
      "cell_type": "code",
      "execution_count": null,
      "id": "cf8dacd1-4b66-4831-8882-e84900045ec1",
      "metadata": {
        "id": "cf8dacd1-4b66-4831-8882-e84900045ec1"
      },
      "outputs": [],
      "source": [
        "len(s) #length of the string"
      ]
    },
    {
      "cell_type": "code",
      "execution_count": null,
      "id": "c602cc18-b4ab-4379-9965-bbc2204c3c05",
      "metadata": {
        "id": "c602cc18-b4ab-4379-9965-bbc2204c3c05"
      },
      "outputs": [],
      "source": [
        "s + s1"
      ]
    },
    {
      "cell_type": "code",
      "execution_count": null,
      "id": "96f6e2f0-693d-459c-b0e8-25f35739d95e",
      "metadata": {
        "id": "96f6e2f0-693d-459c-b0e8-25f35739d95e"
      },
      "outputs": [],
      "source": [
        "len(s+s1)"
      ]
    },
    {
      "cell_type": "code",
      "execution_count": null,
      "id": "78ef4c5a-2a3e-44f2-91e7-8d461e9cf13a",
      "metadata": {
        "id": "78ef4c5a-2a3e-44f2-91e7-8d461e9cf13a"
      },
      "outputs": [],
      "source": [
        "%whos"
      ]
    },
    {
      "cell_type": "markdown",
      "id": "699bd5d7-7366-4cd2-8dd4-cb9dd1b9beaf",
      "metadata": {
        "id": "699bd5d7-7366-4cd2-8dd4-cb9dd1b9beaf"
      },
      "source": [
        "<table ><tr><th> 0 <th> <th> 1 <th> <th> 2 <th> <th> 3 <th> <th> 4 <th><th> 5 <th><th> 6 <th><th> 7 <th><th> 8 <th><th> 9\n",
        "    <th><th> 10 <th><th> 11 <th><th> 12 <th><tr>\n",
        "<tr><td> H <td><td> e <td><td> l <td><td> l <td><td> o <td><td>  <td><td> W <td><td> o <td><td> r <td><td> l <td><td> d\n",
        "  <td><td> ! <td><tr><table>\n"
      ]
    },
    {
      "cell_type": "code",
      "execution_count": null,
      "id": "051dc44c-39ad-452c-b435-08b08557fc1f",
      "metadata": {
        "id": "051dc44c-39ad-452c-b435-08b08557fc1f"
      },
      "outputs": [],
      "source": [
        "s[0]"
      ]
    },
    {
      "cell_type": "code",
      "execution_count": null,
      "id": "721f69cb-2935-49f3-a25b-7b09d209fdaa",
      "metadata": {
        "id": "721f69cb-2935-49f3-a25b-7b09d209fdaa"
      },
      "outputs": [],
      "source": [
        "s[1]"
      ]
    },
    {
      "cell_type": "code",
      "execution_count": null,
      "id": "e18a6d8e-bc90-410e-a649-79d092095b91",
      "metadata": {
        "id": "e18a6d8e-bc90-410e-a649-79d092095b91"
      },
      "outputs": [],
      "source": [
        "s[2]"
      ]
    },
    {
      "cell_type": "code",
      "execution_count": null,
      "id": "48ba5c2d-1aad-4443-887b-104b187a9b8f",
      "metadata": {
        "id": "48ba5c2d-1aad-4443-887b-104b187a9b8f"
      },
      "outputs": [],
      "source": [
        "s[0:12]"
      ]
    },
    {
      "cell_type": "code",
      "execution_count": null,
      "id": "25da49c2-2f1b-4363-9b74-8f97bfbf9457",
      "metadata": {
        "id": "25da49c2-2f1b-4363-9b74-8f97bfbf9457"
      },
      "outputs": [],
      "source": [
        "s2 = s[6]+s[7]+s[8] + 'm'"
      ]
    },
    {
      "cell_type": "code",
      "execution_count": null,
      "id": "81a16db2-ecba-4275-b4b0-c50b27b2ffb5",
      "metadata": {
        "id": "81a16db2-ecba-4275-b4b0-c50b27b2ffb5"
      },
      "outputs": [],
      "source": [
        "s2"
      ]
    },
    {
      "cell_type": "code",
      "execution_count": null,
      "id": "457dbedc-ccb9-41dc-a644-23a01c0f7d42",
      "metadata": {
        "id": "457dbedc-ccb9-41dc-a644-23a01c0f7d42"
      },
      "outputs": [],
      "source": [
        "%whos"
      ]
    },
    {
      "cell_type": "code",
      "execution_count": null,
      "id": "5353e4ee-4f7f-4987-9f61-f7d4989fe56a",
      "metadata": {
        "id": "5353e4ee-4f7f-4987-9f61-f7d4989fe56a"
      },
      "outputs": [],
      "source": [
        "s3 = \"1\"\n",
        "x = 2\n",
        "y = x + s3"
      ]
    },
    {
      "cell_type": "code",
      "execution_count": null,
      "id": "f2dd339b-f061-4be2-bd93-6cdc859b78a0",
      "metadata": {
        "id": "f2dd339b-f061-4be2-bd93-6cdc859b78a0"
      },
      "outputs": [],
      "source": [
        "s3 = \"1\"\n",
        "x = \"2\"\n",
        "y = x + s3"
      ]
    },
    {
      "cell_type": "code",
      "execution_count": null,
      "id": "6570e344-8226-46c4-a308-26ea819dfb62",
      "metadata": {
        "id": "6570e344-8226-46c4-a308-26ea819dfb62"
      },
      "outputs": [],
      "source": [
        "y"
      ]
    },
    {
      "cell_type": "code",
      "execution_count": null,
      "id": "6823ae0f-19a3-4841-85d3-a60290d1f68f",
      "metadata": {
        "id": "6823ae0f-19a3-4841-85d3-a60290d1f68f"
      },
      "outputs": [],
      "source": [
        "x = 2\n",
        "y = 3\n",
        "z = str(x) + str(3)\n",
        "print(z)"
      ]
    },
    {
      "cell_type": "code",
      "execution_count": null,
      "id": "4367d842-de0a-4a50-8a8e-b281a91d5df2",
      "metadata": {
        "id": "4367d842-de0a-4a50-8a8e-b281a91d5df2"
      },
      "outputs": [],
      "source": []
    },
    {
      "cell_type": "code",
      "execution_count": null,
      "id": "743613ea-7573-4930-8632-87bc0fc63d43",
      "metadata": {
        "id": "743613ea-7573-4930-8632-87bc0fc63d43"
      },
      "outputs": [],
      "source": [
        "%whos"
      ]
    },
    {
      "cell_type": "code",
      "execution_count": null,
      "id": "f5d8e832-8188-4c9b-8420-ab7e73125e0f",
      "metadata": {
        "id": "f5d8e832-8188-4c9b-8420-ab7e73125e0f"
      },
      "outputs": [],
      "source": [
        "%clear"
      ]
    },
    {
      "cell_type": "code",
      "execution_count": null,
      "id": "02c37849-7d28-4866-8a5c-84db5f50ca28",
      "metadata": {
        "id": "02c37849-7d28-4866-8a5c-84db5f50ca28"
      },
      "outputs": [],
      "source": [
        "%whos"
      ]
    },
    {
      "cell_type": "code",
      "execution_count": null,
      "id": "e1e7bce0-0877-4369-975b-5724fc6106e7",
      "metadata": {
        "id": "e1e7bce0-0877-4369-975b-5724fc6106e7"
      },
      "outputs": [],
      "source": [
        "%reset"
      ]
    },
    {
      "cell_type": "code",
      "execution_count": null,
      "id": "02087fcd-4077-4112-a663-b38b7fa57e0e",
      "metadata": {
        "id": "02087fcd-4077-4112-a663-b38b7fa57e0e"
      },
      "outputs": [],
      "source": [
        "s"
      ]
    },
    {
      "cell_type": "code",
      "execution_count": null,
      "id": "ae190cdc-a2aa-490d-a029-ea5d67581e11",
      "metadata": {
        "id": "ae190cdc-a2aa-490d-a029-ea5d67581e11"
      },
      "outputs": [],
      "source": [
        "s.upper()"
      ]
    },
    {
      "cell_type": "code",
      "execution_count": null,
      "id": "0275113d-2958-4769-87a8-cf3425282c93",
      "metadata": {
        "id": "0275113d-2958-4769-87a8-cf3425282c93"
      },
      "outputs": [],
      "source": [
        "s.lower()"
      ]
    },
    {
      "cell_type": "code",
      "execution_count": null,
      "id": "c4eaa245-c7fb-4f50-ad8c-6f1dd19b54c7",
      "metadata": {
        "id": "c4eaa245-c7fb-4f50-ad8c-6f1dd19b54c7"
      },
      "outputs": [],
      "source": [
        "s.count('l')"
      ]
    },
    {
      "cell_type": "code",
      "execution_count": null,
      "id": "8f1622c5-c3da-4138-abf6-ea7eacee8ce5",
      "metadata": {
        "id": "8f1622c5-c3da-4138-abf6-ea7eacee8ce5"
      },
      "outputs": [],
      "source": [
        "s = s.replace(\"World\", \"Hyderabad\")\n",
        "print(s)"
      ]
    },
    {
      "cell_type": "code",
      "execution_count": null,
      "id": "87c6c3dc-0ec1-48bc-afcb-a495e740d811",
      "metadata": {
        "id": "87c6c3dc-0ec1-48bc-afcb-a495e740d811"
      },
      "outputs": [],
      "source": []
    },
    {
      "cell_type": "code",
      "execution_count": null,
      "id": "d4d34c00-b682-43c0-ac27-f0769c2bba5e",
      "metadata": {
        "id": "d4d34c00-b682-43c0-ac27-f0769c2bba5e"
      },
      "outputs": [],
      "source": [
        "name = \"IIT Hyderabad\"\n",
        "country = 'India'\n",
        "\n",
        "print(\"%s is a great school in %s!\"%(name, country))\n"
      ]
    },
    {
      "cell_type": "code",
      "execution_count": null,
      "id": "b835f48d-3639-4023-82f5-f06e2bace425",
      "metadata": {
        "id": "b835f48d-3639-4023-82f5-f06e2bace425"
      },
      "outputs": [],
      "source": [
        "print?"
      ]
    },
    {
      "cell_type": "code",
      "execution_count": null,
      "id": "f3d96501-bccf-4e1f-98b7-53250f086849",
      "metadata": {
        "id": "f3d96501-bccf-4e1f-98b7-53250f086849"
      },
      "outputs": [],
      "source": [
        "print(\"1 + 2 = %d\"%(1+2))"
      ]
    },
    {
      "cell_type": "code",
      "execution_count": null,
      "id": "0526a957-a19f-4aea-b445-9a9860f963e3",
      "metadata": {
        "id": "0526a957-a19f-4aea-b445-9a9860f963e3"
      },
      "outputs": [],
      "source": [
        "x = 2\n",
        "y = 3\n",
        "z = \"ABC\"\n",
        "print(\"The variables are: %d, %d, %s\"%(x,y,z))\n",
        "\n",
        "print(\"Variables are of type:%s, %s, %s\"%(type(x),type(y),type(z)))\n",
        "print(\"Variables are of type:\",type(x),type(y),type(z))"
      ]
    },
    {
      "cell_type": "code",
      "execution_count": null,
      "id": "9a71bbbd-9a18-4f44-ac9b-91ee730abee5",
      "metadata": {
        "id": "9a71bbbd-9a18-4f44-ac9b-91ee730abee5"
      },
      "outputs": [],
      "source": [
        "##Sometimes we use f-string\n",
        "name1 = \"IIT Hyderabad\"\n",
        "name2 = \"IISc Bangalore\"\n",
        "country = \"India\"\n",
        "print(f\"{name1} and {name2} are great schools in {country}.\")"
      ]
    },
    {
      "cell_type": "code",
      "execution_count": null,
      "id": "e5bfa983-7d08-416c-b6ab-9a9be4b5cd34",
      "metadata": {
        "id": "e5bfa983-7d08-416c-b6ab-9a9be4b5cd34",
        "colab": {
          "base_uri": "https://localhost:8080/"
        },
        "outputId": "94b65c9b-9be6-4fab-ba1a-34af1cf0f65d"
      },
      "outputs": [
        {
          "output_type": "stream",
          "name": "stdout",
          "text": [
            "example\n"
          ]
        }
      ],
      "source": [
        "#u = \"five\"\n",
        "#v = \"six\"\n",
        "#print(f\"{u} times {v} equals to {5*6}\")\n",
        "w = \"Example\"\n",
        "w1=\"e\" + w[1:]\n",
        "print(w1)"
      ]
    },
    {
      "cell_type": "code",
      "source": [
        "## Indexing versus slicing\n",
        "w = \"example\"\n",
        "len(w)\n",
        "#w[9]  ## indexing\n",
        "w[6:9]  ## slicing\n",
        "## Indexing returns a single item,\n",
        "## but slicing returns a subsequence of items. Thus while trying to index a nonexistent item,\n",
        "## there is nothing to return and we get error.\n",
        "## But when we slice a sequence outside of the bounds,\n",
        "## we can return an empty sequence\n",
        "##List\n",
        "l1 = [0,1,2,3,4,5,6,7,8,9]\n",
        "l2 = l1[4] #indexing\n",
        "print(l2)\n",
        "l3 = l1[4:5] #slicing\n",
        "print(l3)\n",
        "print(f\"Type of l1[4] is {type(l2)}\")\n",
        "print(f\"Type of l1[4:5] is {type(l3)}\")\n"
      ],
      "metadata": {
        "colab": {
          "base_uri": "https://localhost:8080/"
        },
        "id": "VK0EwDVtS0Lt",
        "outputId": "52d4e35c-28e5-4018-fbe6-cf6911933324"
      },
      "id": "VK0EwDVtS0Lt",
      "execution_count": null,
      "outputs": [
        {
          "output_type": "stream",
          "name": "stdout",
          "text": [
            "4\n",
            "[4]\n",
            "Type of l1[4] is <class 'int'>\n",
            "Type of l1[4:5] is <class 'list'>\n"
          ]
        }
      ]
    },
    {
      "cell_type": "markdown",
      "source": [
        "Given a slice expression like s[i:j:k],\n",
        "\n",
        "    The slice of s from i to j with step k is defined\n",
        "    as the sequence of items with index x = i + n*k\n",
        "    such that 0 <= n < (j-i)/k. In other words, the\n",
        "    indices are i, i+k, i+2*k, i+3*k and so on,\n",
        "    stopping when j is reached (but never including\n",
        "    j). When k is positive, i and j are reduced to\n",
        "    len(s) if they are greater"
      ],
      "metadata": {
        "id": "Kew-WAUWWVU-"
      },
      "id": "Kew-WAUWWVU-"
    },
    {
      "cell_type": "code",
      "source": [
        "w = \"example\"\n",
        "w[0:9:2]\n",
        "w[0]\n",
        "# w[0]=\"E\" ## error as a string is immutable\n",
        "new_w = \"E\" + w[1:]\n",
        "print(new_w)\n",
        "\n"
      ],
      "metadata": {
        "colab": {
          "base_uri": "https://localhost:8080/"
        },
        "id": "MyOrJoeHWU4W",
        "outputId": "61bb1282-bdcf-45a1-d63f-034558b7f6c1"
      },
      "id": "MyOrJoeHWU4W",
      "execution_count": null,
      "outputs": [
        {
          "output_type": "stream",
          "name": "stdout",
          "text": [
            "Example\n"
          ]
        }
      ]
    },
    {
      "cell_type": "code",
      "execution_count": null,
      "id": "413ff498-2e60-429c-9705-8ae3fc69146d",
      "metadata": {
        "id": "413ff498-2e60-429c-9705-8ae3fc69146d"
      },
      "outputs": [],
      "source": [
        "type(u)"
      ]
    },
    {
      "cell_type": "code",
      "execution_count": null,
      "id": "c812f321-5138-4602-8b88-cb95972f407e",
      "metadata": {
        "id": "c812f321-5138-4602-8b88-cb95972f407e"
      },
      "outputs": [],
      "source": [
        "x = 2\n",
        "y = print(x)"
      ]
    },
    {
      "cell_type": "code",
      "execution_count": null,
      "id": "f1e94d95-1a18-44e7-8ffe-926301c09268",
      "metadata": {
        "id": "f1e94d95-1a18-44e7-8ffe-926301c09268"
      },
      "outputs": [],
      "source": [
        "y"
      ]
    },
    {
      "cell_type": "code",
      "execution_count": null,
      "id": "6bd30be8-f4f5-48ce-846c-20e1dcddcb02",
      "metadata": {
        "id": "6bd30be8-f4f5-48ce-846c-20e1dcddcb02"
      },
      "outputs": [],
      "source": [
        "type(y)"
      ]
    },
    {
      "cell_type": "markdown",
      "id": "3e9e08ce-c971-4055-aab2-df6b6541832b",
      "metadata": {
        "id": "3e9e08ce-c971-4055-aab2-df6b6541832b"
      },
      "source": [
        "Now we will learn the data structure called list in Python"
      ]
    },
    {
      "cell_type": "markdown",
      "id": "8e93a65b-570d-4b96-8b01-65d8f5cd154f",
      "metadata": {
        "id": "8e93a65b-570d-4b96-8b01-65d8f5cd154f"
      },
      "source": [
        "Lists are flexible data structures used to store various items, integers, floats, strings, and lists.\n",
        "\n",
        "Lists are mutable --> their elements can be changed even after creating the list.\n"
      ]
    },
    {
      "cell_type": "markdown",
      "id": "b5770ca0-73f9-420f-9807-add2a832457a",
      "metadata": {
        "id": "b5770ca0-73f9-420f-9807-add2a832457a"
      },
      "source": []
    },
    {
      "cell_type": "code",
      "execution_count": null,
      "id": "07d77052-5f40-45a0-9751-37f0aa4e0a7a",
      "metadata": {
        "id": "07d77052-5f40-45a0-9751-37f0aa4e0a7a"
      },
      "outputs": [],
      "source": [
        "list1 = [1,2,3,4,5,6,7,8]  #list of integers"
      ]
    },
    {
      "cell_type": "code",
      "execution_count": null,
      "id": "e8e105ea-96b7-4b03-a4ba-cd10644346f5",
      "metadata": {
        "id": "e8e105ea-96b7-4b03-a4ba-cd10644346f5",
        "colab": {
          "base_uri": "https://localhost:8080/"
        },
        "outputId": "0943d8c7-d0c2-4f11-8d9a-7fcc43cf12fd"
      },
      "outputs": [
        {
          "output_type": "execute_result",
          "data": {
            "text/plain": [
              "8"
            ]
          },
          "metadata": {},
          "execution_count": 18
        }
      ],
      "source": [
        "len(list1)  #length of the list"
      ]
    },
    {
      "cell_type": "code",
      "execution_count": null,
      "id": "fbd379d6-0764-4096-9ef6-b2005291f331",
      "metadata": {
        "id": "fbd379d6-0764-4096-9ef6-b2005291f331",
        "colab": {
          "base_uri": "https://localhost:8080/"
        },
        "outputId": "253d4b12-feba-4d9f-b6c2-9dcf29906488"
      },
      "outputs": [
        {
          "output_type": "execute_result",
          "data": {
            "text/plain": [
              "1"
            ]
          },
          "metadata": {},
          "execution_count": 14
        }
      ],
      "source": [
        "list1[0] ## index 0"
      ]
    },
    {
      "cell_type": "code",
      "execution_count": null,
      "id": "e131b87e-f03c-4893-aa96-ff9235a17105",
      "metadata": {
        "id": "e131b87e-f03c-4893-aa96-ff9235a17105"
      },
      "outputs": [],
      "source": [
        "list1[1] ## index 1\n",
        "list.append?"
      ]
    },
    {
      "cell_type": "code",
      "execution_count": null,
      "id": "f5e85d88-92b5-4c68-a0fd-831eb3feac43",
      "metadata": {
        "id": "f5e85d88-92b5-4c68-a0fd-831eb3feac43",
        "colab": {
          "base_uri": "https://localhost:8080/"
        },
        "outputId": "ced664f0-e545-4c4f-faa3-52dbda974266"
      },
      "outputs": [
        {
          "output_type": "stream",
          "name": "stdout",
          "text": [
            "[1, 2, 3, 4, 5, 6, 7, 8, 'orange']\n"
          ]
        }
      ],
      "source": [
        "list1.append(\"orange\")  #adds a string item to the end\n",
        "print(list1)"
      ]
    },
    {
      "cell_type": "code",
      "execution_count": null,
      "id": "91e119e2-61df-45be-9ffc-163fdd0f05a8",
      "metadata": {
        "id": "91e119e2-61df-45be-9ffc-163fdd0f05a8"
      },
      "outputs": [],
      "source": [
        "list1\n",
        "list.remove?"
      ]
    },
    {
      "cell_type": "code",
      "execution_count": null,
      "id": "e5b9b595-8f34-41fe-ac7f-7c92be213191",
      "metadata": {
        "id": "e5b9b595-8f34-41fe-ac7f-7c92be213191",
        "colab": {
          "base_uri": "https://localhost:8080/"
        },
        "outputId": "2841ed73-5132-4730-851b-1f19f68aee49"
      },
      "outputs": [
        {
          "output_type": "stream",
          "name": "stdout",
          "text": [
            "[1, 2, 3, 4, 5, 6, 7, 8]\n"
          ]
        }
      ],
      "source": [
        "list1.remove('orange')\n",
        "print(list1)"
      ]
    },
    {
      "cell_type": "code",
      "execution_count": null,
      "id": "ca4dcbeb-ee5b-47c2-8f6f-e0a063d893aa",
      "metadata": {
        "id": "ca4dcbeb-ee5b-47c2-8f6f-e0a063d893aa"
      },
      "outputs": [],
      "source": [
        "list1.append(\"banana\")\n",
        "list1.append(\"orange\")"
      ]
    },
    {
      "cell_type": "code",
      "execution_count": null,
      "id": "e7a064ef-962e-47b3-8b89-84e95863e2f5",
      "metadata": {
        "id": "e7a064ef-962e-47b3-8b89-84e95863e2f5",
        "colab": {
          "base_uri": "https://localhost:8080/"
        },
        "outputId": "c62bb88c-d928-4bd0-844a-3317e4c0b552"
      },
      "outputs": [
        {
          "output_type": "execute_result",
          "data": {
            "text/plain": [
              "[1, 2, 3, 4, 5, 6, 7, 8, 'banana', 'orange']"
            ]
          },
          "metadata": {},
          "execution_count": 23
        }
      ],
      "source": [
        "list1"
      ]
    },
    {
      "cell_type": "code",
      "execution_count": null,
      "id": "c160075f-2428-4808-8eff-6c98a07c1897",
      "metadata": {
        "id": "c160075f-2428-4808-8eff-6c98a07c1897",
        "colab": {
          "base_uri": "https://localhost:8080/",
          "height": 56
        },
        "outputId": "01ac84b3-027e-43e3-a54f-24a7fef061c4"
      },
      "outputs": [
        {
          "output_type": "execute_result",
          "data": {
            "text/plain": [
              "'orange'"
            ],
            "application/vnd.google.colaboratory.intrinsic+json": {
              "type": "string"
            }
          },
          "metadata": {},
          "execution_count": 24
        }
      ],
      "source": [
        "list1.pop()"
      ]
    },
    {
      "cell_type": "code",
      "execution_count": null,
      "id": "d095c60e-d48d-4c33-a723-68cafdbaadb7",
      "metadata": {
        "id": "d095c60e-d48d-4c33-a723-68cafdbaadb7",
        "colab": {
          "base_uri": "https://localhost:8080/",
          "height": 56
        },
        "outputId": "e3ecb25e-a66d-49f1-d2da-2a58c4da1d5b"
      },
      "outputs": [
        {
          "output_type": "execute_result",
          "data": {
            "text/plain": [
              "'banana'"
            ],
            "application/vnd.google.colaboratory.intrinsic+json": {
              "type": "string"
            }
          },
          "metadata": {},
          "execution_count": 25
        }
      ],
      "source": [
        "list1.pop()"
      ]
    },
    {
      "cell_type": "code",
      "execution_count": null,
      "id": "da8b9de1-a62f-481f-be77-6239c6b59115",
      "metadata": {
        "id": "da8b9de1-a62f-481f-be77-6239c6b59115",
        "colab": {
          "base_uri": "https://localhost:8080/"
        },
        "outputId": "27ffa88c-c8e9-4bf7-b0b6-a109940ff8c5"
      },
      "outputs": [
        {
          "output_type": "stream",
          "name": "stdout",
          "text": [
            "[1, 2, 3, 4, 5, 6, 7, 8] ['orange', 'banana', 'apple']\n"
          ]
        }
      ],
      "source": [
        "list2 = [\"orange\", \"banana\", \"apple\"]\n",
        "print(list1, list2)"
      ]
    },
    {
      "cell_type": "code",
      "execution_count": null,
      "id": "edc70b7a-85d7-4725-a177-6084557101c7",
      "metadata": {
        "id": "edc70b7a-85d7-4725-a177-6084557101c7",
        "colab": {
          "base_uri": "https://localhost:8080/"
        },
        "outputId": "fcfd9867-1468-4a9d-fc70-fbdbf91c5e33"
      },
      "outputs": [
        {
          "output_type": "execute_result",
          "data": {
            "text/plain": [
              "[1, 2, 3, 4, 5, 6, 7, 8, 'orange', 'banana', 'apple']"
            ]
          },
          "metadata": {},
          "execution_count": 27
        }
      ],
      "source": [
        "list1 + list2"
      ]
    },
    {
      "cell_type": "code",
      "execution_count": null,
      "id": "61548632-de4d-41e6-8195-cd5908abca56",
      "metadata": {
        "id": "61548632-de4d-41e6-8195-cd5908abca56",
        "colab": {
          "base_uri": "https://localhost:8080/"
        },
        "outputId": "ad248b2a-3430-4b63-99de-edf51690f3ea"
      },
      "outputs": [
        {
          "output_type": "stream",
          "name": "stdout",
          "text": [
            "[1, 2, 3, 4, 5, 6, 7, 8, 1, 2, 3, 4, 5, 6, 7, 8]\n"
          ]
        }
      ],
      "source": [
        "list3 = [1,2,3,4,5,6,7,8]\n",
        "list4 = list1 + list3\n",
        "print(list4)"
      ]
    },
    {
      "cell_type": "code",
      "execution_count": null,
      "id": "36cb2d18-15c1-4508-aacb-4f6ecfdb8682",
      "metadata": {
        "id": "36cb2d18-15c1-4508-aacb-4f6ecfdb8682"
      },
      "outputs": [],
      "source": [
        "# Advanced topics: list comprehension and zip function\n",
        "\n",
        "list5 = [a - b for a, b in zip(list1, list3)]"
      ]
    },
    {
      "cell_type": "code",
      "execution_count": null,
      "id": "15f7c26e-72d0-4da7-8ee2-9c2568fdf95f",
      "metadata": {
        "id": "15f7c26e-72d0-4da7-8ee2-9c2568fdf95f",
        "colab": {
          "base_uri": "https://localhost:8080/"
        },
        "outputId": "92b557b9-1a34-413e-d270-e10c995bd0d1"
      },
      "outputs": [
        {
          "output_type": "stream",
          "name": "stdout",
          "text": [
            "[0, 0, 0, 0, 0, 0, 0, 0]\n"
          ]
        }
      ],
      "source": [
        "print(list5)\n",
        "# - will not work on lists"
      ]
    },
    {
      "cell_type": "code",
      "execution_count": null,
      "id": "0d6230b7-0916-4bef-9397-431f1a35bf0f",
      "metadata": {
        "id": "0d6230b7-0916-4bef-9397-431f1a35bf0f"
      },
      "outputs": [],
      "source": [
        "## Advanced topic: zip function\n",
        "\n",
        "z1 = zip(list1, list3)"
      ]
    },
    {
      "cell_type": "code",
      "execution_count": null,
      "id": "8ccb0109-f862-4a37-8e19-e4ee27df1a2b",
      "metadata": {
        "id": "8ccb0109-f862-4a37-8e19-e4ee27df1a2b",
        "colab": {
          "base_uri": "https://localhost:8080/"
        },
        "outputId": "d52bcb51-0281-4584-ceed-981ded433bac"
      },
      "outputs": [
        {
          "output_type": "stream",
          "name": "stdout",
          "text": [
            "[(1, 1), (2, 2), (3, 3), (4, 4), (5, 5), (6, 6), (7, 7), (8, 8)]\n"
          ]
        }
      ],
      "source": [
        "print(list(z1))  # zip aggregates elements from two lists and makes a list of tuples"
      ]
    },
    {
      "cell_type": "markdown",
      "id": "24a58300-bcda-4ee9-8370-e235f7bd5e8a",
      "metadata": {
        "id": "24a58300-bcda-4ee9-8370-e235f7bd5e8a"
      },
      "source": [
        "Negative indices"
      ]
    },
    {
      "cell_type": "code",
      "execution_count": null,
      "id": "613d06c7-f079-4135-82fe-05cba2cc7a53",
      "metadata": {
        "id": "613d06c7-f079-4135-82fe-05cba2cc7a53",
        "colab": {
          "base_uri": "https://localhost:8080/"
        },
        "outputId": "550872d5-4a9d-4c07-875a-3eb72cf53fad"
      },
      "outputs": [
        {
          "output_type": "stream",
          "name": "stdout",
          "text": [
            "['a', 1, 'b', 2, 'c', 3, 'd', 4]\n"
          ]
        }
      ],
      "source": [
        "alist = ['a', 1, 'b', 2, 'c', 3, 'd', 4]\n",
        "print(alist)"
      ]
    },
    {
      "cell_type": "code",
      "execution_count": null,
      "id": "a56635bc-2af6-430c-8b33-e9983ddd8fb8",
      "metadata": {
        "id": "a56635bc-2af6-430c-8b33-e9983ddd8fb8",
        "colab": {
          "base_uri": "https://localhost:8080/"
        },
        "outputId": "e4c7fdd3-69bc-4515-a256-5c20365c62c0"
      },
      "outputs": [
        {
          "output_type": "stream",
          "name": "stdout",
          "text": [
            "8\n"
          ]
        }
      ],
      "source": [
        "l = len(alist)\n",
        "print(l)"
      ]
    },
    {
      "cell_type": "code",
      "execution_count": null,
      "id": "9e1ecb4a-b829-4c34-beb9-d4d32601bbf7",
      "metadata": {
        "id": "9e1ecb4a-b829-4c34-beb9-d4d32601bbf7",
        "colab": {
          "base_uri": "https://localhost:8080/"
        },
        "outputId": "fc830a2e-b79b-4463-fc36-82207d66c322"
      },
      "outputs": [
        {
          "output_type": "stream",
          "name": "stdout",
          "text": [
            "4\n"
          ]
        }
      ],
      "source": [
        "print(alist[-1]) # index -1 points to the last element of the list\n"
      ]
    },
    {
      "cell_type": "code",
      "execution_count": null,
      "id": "6bfe8872-5d3c-4c66-b658-1d39409c992f",
      "metadata": {
        "id": "6bfe8872-5d3c-4c66-b658-1d39409c992f",
        "colab": {
          "base_uri": "https://localhost:8080/"
        },
        "outputId": "fae2d732-4ef5-4f57-c6b2-2b13389f4c41"
      },
      "outputs": [
        {
          "output_type": "stream",
          "name": "stdout",
          "text": [
            "4\n"
          ]
        }
      ],
      "source": [
        "print(alist[l-1]) # last element in the list"
      ]
    },
    {
      "cell_type": "code",
      "source": [
        "#alist[start:stop:step]\n",
        "alist[::-2]"
      ],
      "metadata": {
        "colab": {
          "base_uri": "https://localhost:8080/"
        },
        "id": "MHkpdmoSld0L",
        "outputId": "e6c0cf44-1958-41bf-ad91-39cff3f5492d"
      },
      "id": "MHkpdmoSld0L",
      "execution_count": null,
      "outputs": [
        {
          "output_type": "execute_result",
          "data": {
            "text/plain": [
              "[4, 3, 2, 1]"
            ]
          },
          "metadata": {},
          "execution_count": 47
        }
      ]
    },
    {
      "cell_type": "code",
      "execution_count": null,
      "id": "c2a5508c-1fc0-43df-a54c-7f9975a7521f",
      "metadata": {
        "id": "c2a5508c-1fc0-43df-a54c-7f9975a7521f",
        "colab": {
          "base_uri": "https://localhost:8080/"
        },
        "outputId": "3f8f55f6-9849-4185-e124-60fe9fc31076"
      },
      "outputs": [
        {
          "output_type": "stream",
          "name": "stdout",
          "text": [
            "4\n",
            "d\n",
            "3\n",
            "c\n",
            "2\n",
            "b\n",
            "1\n",
            "a\n"
          ]
        }
      ],
      "source": [
        "print(alist[-1])\n",
        "print(alist[-2])\n",
        "print(alist[-3])\n",
        "print(alist[-4])\n",
        "print(alist[-5])\n",
        "print(alist[-6])\n",
        "print(alist[-7])\n",
        "print(alist[-8])"
      ]
    },
    {
      "cell_type": "code",
      "execution_count": null,
      "id": "5395ea11-f525-45d6-99da-e534cbc3cb63",
      "metadata": {
        "id": "5395ea11-f525-45d6-99da-e534cbc3cb63"
      },
      "outputs": [],
      "source": [
        "print(alist[0])\n",
        "print(alist[1])\n",
        "print(alist[2])\n",
        "print(alist[3])\n",
        "print(alist[4])\n",
        "print(alist[5])\n",
        "print(alist[6])\n",
        "print(alist[7])"
      ]
    },
    {
      "cell_type": "code",
      "execution_count": null,
      "id": "12685e93-a819-433f-97f4-bff3b1ff9f2e",
      "metadata": {
        "id": "12685e93-a819-433f-97f4-bff3b1ff9f2e"
      },
      "outputs": [],
      "source": [
        "print(alist[0:l])"
      ]
    },
    {
      "cell_type": "code",
      "execution_count": null,
      "id": "28e763dd-3942-4638-baeb-4652802e8bd9",
      "metadata": {
        "id": "28e763dd-3942-4638-baeb-4652802e8bd9"
      },
      "outputs": [],
      "source": [
        "print(alist[-l:])\n",
        "print(alist[-1])\n",
        "print(alist[l-1])"
      ]
    },
    {
      "cell_type": "code",
      "execution_count": null,
      "id": "41b58309-27f0-458b-851d-3d3cbe2a5e0f",
      "metadata": {
        "id": "41b58309-27f0-458b-851d-3d3cbe2a5e0f"
      },
      "outputs": [],
      "source": [
        "  fruits = ['apple', 'orange', 'banana']\n",
        "  fruits.append('pear')   ## append elem at end\n",
        "  print(fruits)"
      ]
    },
    {
      "cell_type": "code",
      "execution_count": null,
      "id": "1f8f9dfa-802e-42e0-a70e-c3ccd38ed576",
      "metadata": {
        "id": "1f8f9dfa-802e-42e0-a70e-c3ccd38ed576"
      },
      "outputs": [],
      "source": [
        "fruits.insert(0,'mango')\n",
        "print(fruits)"
      ]
    },
    {
      "cell_type": "code",
      "execution_count": null,
      "id": "e5f1bf1a-c437-427e-9a5a-83810245a0e2",
      "metadata": {
        "id": "e5f1bf1a-c437-427e-9a5a-83810245a0e2"
      },
      "outputs": [],
      "source": [
        "fruits.extend(['pineappple', 'grape'])\n",
        "print(fruits)"
      ]
    },
    {
      "cell_type": "code",
      "execution_count": null,
      "id": "533145e7-e170-4f24-a4f1-8ef34cc3f9e9",
      "metadata": {
        "id": "533145e7-e170-4f24-a4f1-8ef34cc3f9e9"
      },
      "outputs": [],
      "source": [
        "print(fruits.index('orange'))"
      ]
    },
    {
      "cell_type": "code",
      "execution_count": null,
      "id": "5d56be57-7a25-4e06-a958-9096ba13ccd8",
      "metadata": {
        "id": "5d56be57-7a25-4e06-a958-9096ba13ccd8"
      },
      "outputs": [],
      "source": [
        "fruits.remove('banana')\n",
        "print(fruits)"
      ]
    },
    {
      "cell_type": "code",
      "execution_count": null,
      "id": "176b6c0f-88a5-4477-8f63-81053f0173d8",
      "metadata": {
        "id": "176b6c0f-88a5-4477-8f63-81053f0173d8"
      },
      "outputs": [],
      "source": [
        "fruits.pop(1)\n",
        "print(fruits)"
      ]
    },
    {
      "cell_type": "code",
      "execution_count": null,
      "id": "4529fe83-10a8-4b42-823c-97c398610cdf",
      "metadata": {
        "id": "4529fe83-10a8-4b42-823c-97c398610cdf"
      },
      "outputs": [],
      "source": [
        "fruits.reverse()\n",
        "fruits"
      ]
    },
    {
      "cell_type": "code",
      "execution_count": null,
      "id": "66a44bf3-832a-4c96-b9f8-19b352de08e0",
      "metadata": {
        "id": "66a44bf3-832a-4c96-b9f8-19b352de08e0"
      },
      "outputs": [],
      "source": [
        "# create a list of prime numbers\n",
        "prime_numbers = [2, 3, 5, 7, 11, 13, 17, 19, 23]\n",
        "\n",
        "# reverse the order of list elements\n",
        "prime_numbers.reverse()\n",
        "\n",
        "print('Reversed List:', prime_numbers)\n",
        "\n",
        "# Output: Reversed List: [7, 5, 3, 2]"
      ]
    },
    {
      "cell_type": "code",
      "execution_count": null,
      "id": "c631aaec-a019-4cdd-bfcc-f50ac15f2e4e",
      "metadata": {
        "id": "c631aaec-a019-4cdd-bfcc-f50ac15f2e4e"
      },
      "outputs": [],
      "source": [
        "random_list = [21.1, 34.2, 1.57, 5.55, 114.7, 11.2, 55.6]\n",
        "random_list.sort()\n",
        "print(random_list)"
      ]
    },
    {
      "cell_type": "code",
      "execution_count": null,
      "id": "94d9d292-f021-4465-9f7d-8af7db9e7405",
      "metadata": {
        "id": "94d9d292-f021-4465-9f7d-8af7db9e7405"
      },
      "outputs": [],
      "source": [
        "list.sort?"
      ]
    },
    {
      "cell_type": "code",
      "execution_count": null,
      "id": "1d39adf0-fa40-4246-9830-343241b9430f",
      "metadata": {
        "id": "1d39adf0-fa40-4246-9830-343241b9430f"
      },
      "outputs": [],
      "source": [
        "x = 1.57\n",
        "round(x)"
      ]
    },
    {
      "cell_type": "code",
      "execution_count": null,
      "id": "d89a7df1-4a5d-474e-a102-5853da19c6b5",
      "metadata": {
        "id": "d89a7df1-4a5d-474e-a102-5853da19c6b5"
      },
      "outputs": [],
      "source": [
        "rlist = [1.1, 1.5, 0.5, 0.7, 0.77, 1.8]\n",
        "rlist.sort(key=round,reverse=True)\n",
        "print(rlist)"
      ]
    },
    {
      "cell_type": "code",
      "execution_count": null,
      "id": "49b73171-dc6d-4cec-9eab-6297acbc9f33",
      "metadata": {
        "id": "49b73171-dc6d-4cec-9eab-6297acbc9f33"
      },
      "outputs": [],
      "source": [
        "a = [5, 1, 4, 3]\n",
        "print(sorted(a))  ## [1, 3, 4, 5]\n",
        "print(a)  ## [5, 1, 4, 3]\n"
      ]
    },
    {
      "cell_type": "code",
      "execution_count": null,
      "id": "41d3be03-7dbc-448a-9609-a0d439b75c94",
      "metadata": {
        "id": "41d3be03-7dbc-448a-9609-a0d439b75c94"
      },
      "outputs": [],
      "source": [
        "strs = ['aa', 'BB', 'zz', 'CC']\n",
        "print(sorted(strs))  ## ['BB', 'CC', 'aa', 'zz'] (case sensitive)\n",
        "print(sorted(strs, reverse=True))   ## ['zz', 'aa', 'CC', 'BB']"
      ]
    },
    {
      "cell_type": "code",
      "execution_count": null,
      "id": "35069f1d-c16d-4460-8acc-e23c7e59e3e3",
      "metadata": {
        "id": "35069f1d-c16d-4460-8acc-e23c7e59e3e3"
      },
      "outputs": [],
      "source": [
        "strs = ['ccc', 'aaaa', 'd', 'bb']\n",
        "print(sorted(strs, key=len))  ## ['d', 'bb', 'ccc', 'aaaa']\n",
        "print(sorted(strs))"
      ]
    },
    {
      "cell_type": "code",
      "execution_count": null,
      "id": "55672f82-5e02-4545-91b2-8e4a3e7d1ca4",
      "metadata": {
        "id": "55672f82-5e02-4545-91b2-8e4a3e7d1ca4"
      },
      "outputs": [],
      "source": [
        "## Empty list\n",
        "emp = []\n",
        "print(emp)\n",
        "len(emp)"
      ]
    },
    {
      "cell_type": "code",
      "execution_count": null,
      "id": "ec103a88-d7fc-4001-ba4f-342eeed1c5b2",
      "metadata": {
        "id": "ec103a88-d7fc-4001-ba4f-342eeed1c5b2"
      },
      "outputs": [],
      "source": [
        "# Initialize an empty list\n",
        "my_list = []\n",
        "\n",
        "# Append elements\n",
        "my_list.append('Python')\n",
        "my_list.append('Rocks!')\n",
        "my_list.append('It’s easy to learn!')\n",
        "\n",
        "print(my_list)\n",
        "\n",
        "# Showcase zero-based indexing in Python\n",
        "print(my_list[0])\n",
        "print(my_list[1])\n",
        "print(my_list[2])\n",
        "\n",
        "# Use the .insert() method to insert ’Truly’ between ’Python’ and ’Rocks!’\n",
        "my_list.insert(1, 'Truly')\n",
        "# `my_list` is now ['Python', 'Truly', 'Rocks', 'It’s easy to learn!']\n",
        "print(my_list)\n",
        "my_string = my_list[0] + \" \" + my_list[1] + \" \" + my_list[2] + \" \" + my_list[3]\n",
        "print(my_string)"
      ]
    },
    {
      "cell_type": "markdown",
      "id": "986fc09f-0227-4b14-9a19-70cb7b4dc4f3",
      "metadata": {
        "id": "986fc09f-0227-4b14-9a19-70cb7b4dc4f3"
      },
      "source": [
        "Tuples - immutable"
      ]
    },
    {
      "cell_type": "markdown",
      "id": "352a1f3e-614b-4baf-8f8f-8b4b6c6ba6b7",
      "metadata": {
        "id": "352a1f3e-614b-4baf-8f8f-8b4b6c6ba6b7"
      },
      "source": [
        "Tuples are fixed size collection (grouping) of elements. Examples: (x,y,z) co-ordinates in three dimensions,\n",
        "(x,y) co-ordinates in 2D,  RGB colorspace (Red, Green, Blue), records in a database (name, age, job).\n",
        "\n",
        "Tuples are like lists, but they are immutable and do not change size.\n",
        "\n",
        "Tuples are not strictly immutable since one of the contained items can be mutable"
      ]
    },
    {
      "cell_type": "code",
      "execution_count": null,
      "id": "5409b7df-0057-4fd3-8f80-df9dec7358ae",
      "metadata": {
        "id": "5409b7df-0057-4fd3-8f80-df9dec7358ae",
        "colab": {
          "base_uri": "https://localhost:8080/"
        },
        "outputId": "3c2b6e0d-d798-4be6-f34b-30a66857d3f6"
      },
      "outputs": [
        {
          "output_type": "stream",
          "name": "stdout",
          "text": [
            "3\n",
            "Hello!\n",
            "(1, 2, 3)\n"
          ]
        }
      ],
      "source": [
        "  my_tuple = (1, 2, 'Hello!')\n",
        "  print(len(my_tuple))  ## 3\n",
        "  print(my_tuple[2])    ## Hello!\n",
        "  #my_tuple[2] = 'Goodbye!'  ## NO, tuples cannot be changed\n",
        "\n",
        "  m1 = my_tuple\n",
        "  m1 = (1,2,3)\n",
        "  print(m1)"
      ]
    },
    {
      "cell_type": "code",
      "execution_count": null,
      "id": "e0359f5f-9706-42bb-a5f3-4e526e376312",
      "metadata": {
        "id": "e0359f5f-9706-42bb-a5f3-4e526e376312",
        "colab": {
          "base_uri": "https://localhost:8080/"
        },
        "outputId": "4cc78478-1e73-4cea-e09e-ef4c6604b8b4"
      },
      "outputs": [
        {
          "output_type": "stream",
          "name": "stdout",
          "text": [
            "(1, 2, 'Goodbye!')\n"
          ]
        }
      ],
      "source": [
        "my_tuple = (1, 2, 'Goodbye!')  ## this works\n",
        "print(my_tuple)"
      ]
    },
    {
      "cell_type": "code",
      "execution_count": null,
      "id": "3c86d951-4c1a-46c8-b36d-8e2dc87ac80e",
      "metadata": {
        "id": "3c86d951-4c1a-46c8-b36d-8e2dc87ac80e",
        "colab": {
          "base_uri": "https://localhost:8080/"
        },
        "outputId": "c06b5e16-21bb-4d83-89a8-cf92c260673f"
      },
      "outputs": [
        {
          "output_type": "execute_result",
          "data": {
            "text/plain": [
              "1"
            ]
          },
          "metadata": {},
          "execution_count": 3
        }
      ],
      "source": [
        "##size-1 tuple - tuple comtaining one element only\n",
        "my_1tuple = (1,)\n",
        "len(my_1tuple)\n",
        "## the tuple is not size-1"
      ]
    },
    {
      "cell_type": "code",
      "execution_count": null,
      "id": "bfc99026-29c5-4b1d-b841-398e9e409b6d",
      "metadata": {
        "id": "bfc99026-29c5-4b1d-b841-398e9e409b6d",
        "colab": {
          "base_uri": "https://localhost:8080/"
        },
        "outputId": "6b166b2e-a81b-45b7-94fd-7672404017c4"
      },
      "outputs": [
        {
          "output_type": "execute_result",
          "data": {
            "text/plain": [
              "1"
            ]
          },
          "metadata": {},
          "execution_count": 4
        }
      ],
      "source": [
        "##size-1 tuple - tuple comtaining one element only\n",
        "my_1tuple = ('Hi',)\n",
        "len(my_1tuple)\n",
        "## the tuple is now size-1"
      ]
    },
    {
      "cell_type": "code",
      "execution_count": null,
      "id": "08397f8b-e528-4511-b3a0-c3bc7b4d9d85",
      "metadata": {
        "id": "08397f8b-e528-4511-b3a0-c3bc7b4d9d85",
        "colab": {
          "base_uri": "https://localhost:8080/"
        },
        "outputId": "39e56567-a1da-45cc-c0ef-267793e7998f"
      },
      "outputs": [
        {
          "output_type": "stream",
          "name": "stdout",
          "text": [
            "255\n",
            "0\n",
            "0\n",
            "128\n"
          ]
        }
      ],
      "source": [
        "#(x,y,z) = (255,0,0)\n",
        "#print(x)\n",
        "#print(y)\n",
        "#print(z)\n",
        "x,y,z,w = (255,0,0,128)\n",
        "print(x)\n",
        "print(y)\n",
        "print(z)\n",
        "print(w)"
      ]
    },
    {
      "cell_type": "code",
      "execution_count": null,
      "id": "d77fc9a2-bbc6-4b2a-8483-bc212f3d2903",
      "metadata": {
        "id": "d77fc9a2-bbc6-4b2a-8483-bc212f3d2903"
      },
      "outputs": [],
      "source": [
        "Olympian = ('Simon Biles', 25, 'Gymnastics', (\"All Around\", \"Floor\", \"Vault\", \"Uneven Bars\", \"Balance Beam\"))"
      ]
    },
    {
      "cell_type": "code",
      "execution_count": null,
      "id": "d40cb0b1-7e76-4ed8-ab9e-475e07a71919",
      "metadata": {
        "id": "d40cb0b1-7e76-4ed8-ab9e-475e07a71919",
        "colab": {
          "base_uri": "https://localhost:8080/"
        },
        "outputId": "95b132ca-7505-48ba-ad72-a3edcc948fdd"
      },
      "outputs": [
        {
          "output_type": "execute_result",
          "data": {
            "text/plain": [
              "4"
            ]
          },
          "metadata": {},
          "execution_count": 12
        }
      ],
      "source": [
        "len(Olympian)"
      ]
    },
    {
      "cell_type": "code",
      "execution_count": null,
      "id": "cdf8d4ae-743b-493f-99a0-622d3c3a8d40",
      "metadata": {
        "id": "cdf8d4ae-743b-493f-99a0-622d3c3a8d40",
        "colab": {
          "base_uri": "https://localhost:8080/",
          "height": 56
        },
        "outputId": "d16bcaef-c17f-4c7d-b72c-90bd24bed434"
      },
      "outputs": [
        {
          "output_type": "execute_result",
          "data": {
            "text/plain": [
              "'Simon Biles'"
            ],
            "application/vnd.google.colaboratory.intrinsic+json": {
              "type": "string"
            }
          },
          "metadata": {},
          "execution_count": 13
        }
      ],
      "source": [
        "Olympian[0]"
      ]
    },
    {
      "cell_type": "code",
      "execution_count": null,
      "id": "9568cc4f-318d-4a74-928b-6bfab788dcef",
      "metadata": {
        "id": "9568cc4f-318d-4a74-928b-6bfab788dcef",
        "colab": {
          "base_uri": "https://localhost:8080/"
        },
        "outputId": "4a7ad4c3-3a6f-4886-f1b6-7221dfd63b2e"
      },
      "outputs": [
        {
          "output_type": "execute_result",
          "data": {
            "text/plain": [
              "25"
            ]
          },
          "metadata": {},
          "execution_count": 14
        }
      ],
      "source": [
        "Olympian[1]"
      ]
    },
    {
      "cell_type": "code",
      "execution_count": null,
      "id": "67535bd0-c375-47fe-b766-3fd4a040ee1f",
      "metadata": {
        "id": "67535bd0-c375-47fe-b766-3fd4a040ee1f",
        "colab": {
          "base_uri": "https://localhost:8080/",
          "height": 56
        },
        "outputId": "75e08477-ca23-4fb0-fa37-96c93be11df7"
      },
      "outputs": [
        {
          "output_type": "execute_result",
          "data": {
            "text/plain": [
              "'Gymnastics'"
            ],
            "application/vnd.google.colaboratory.intrinsic+json": {
              "type": "string"
            }
          },
          "metadata": {},
          "execution_count": 15
        }
      ],
      "source": [
        "Olympian[2]"
      ]
    },
    {
      "cell_type": "code",
      "execution_count": null,
      "id": "64343b9a-a746-4862-b84b-960e1045c579",
      "metadata": {
        "id": "64343b9a-a746-4862-b84b-960e1045c579",
        "colab": {
          "base_uri": "https://localhost:8080/"
        },
        "outputId": "9a266022-0d54-40b0-9fb5-390b94e30cf0"
      },
      "outputs": [
        {
          "output_type": "execute_result",
          "data": {
            "text/plain": [
              "('All Around', 'Floor', 'Vault', 'Uneven Bars', 'Balance Beam')"
            ]
          },
          "metadata": {},
          "execution_count": 16
        }
      ],
      "source": [
        "Olympian[3]"
      ]
    },
    {
      "cell_type": "code",
      "execution_count": null,
      "id": "af864e50-7cf5-48c3-9173-f85cddb95bd9",
      "metadata": {
        "id": "af864e50-7cf5-48c3-9173-f85cddb95bd9",
        "colab": {
          "base_uri": "https://localhost:8080/",
          "height": 56
        },
        "outputId": "262bfc96-aee8-4fc5-f857-1e129d30c22f"
      },
      "outputs": [
        {
          "output_type": "execute_result",
          "data": {
            "text/plain": [
              "'All Around'"
            ],
            "application/vnd.google.colaboratory.intrinsic+json": {
              "type": "string"
            }
          },
          "metadata": {},
          "execution_count": 17
        }
      ],
      "source": [
        "Olympian[3][0]"
      ]
    },
    {
      "cell_type": "code",
      "execution_count": null,
      "id": "7beccbb7-1155-4f50-9bda-c0b405c449d4",
      "metadata": {
        "id": "7beccbb7-1155-4f50-9bda-c0b405c449d4",
        "colab": {
          "base_uri": "https://localhost:8080/",
          "height": 56
        },
        "outputId": "4b7ae0dc-4c94-4282-e840-11badaa7ade6"
      },
      "outputs": [
        {
          "output_type": "execute_result",
          "data": {
            "text/plain": [
              "'Floor'"
            ],
            "application/vnd.google.colaboratory.intrinsic+json": {
              "type": "string"
            }
          },
          "metadata": {},
          "execution_count": 18
        }
      ],
      "source": [
        "Olympian[3][1]"
      ]
    },
    {
      "cell_type": "code",
      "execution_count": null,
      "id": "e7c4b352-ae69-4fd2-95b2-fc87d1a31d87",
      "metadata": {
        "id": "e7c4b352-ae69-4fd2-95b2-fc87d1a31d87",
        "colab": {
          "base_uri": "https://localhost:8080/",
          "height": 56
        },
        "outputId": "f5e5febe-ca3a-41d2-fe68-55945239aa9b"
      },
      "outputs": [
        {
          "output_type": "execute_result",
          "data": {
            "text/plain": [
              "'Vault'"
            ],
            "application/vnd.google.colaboratory.intrinsic+json": {
              "type": "string"
            }
          },
          "metadata": {},
          "execution_count": 19
        }
      ],
      "source": [
        "Olympian[3][2]"
      ]
    },
    {
      "cell_type": "code",
      "execution_count": null,
      "id": "eecb6916-82ed-4105-a906-05c40ca5292e",
      "metadata": {
        "id": "eecb6916-82ed-4105-a906-05c40ca5292e",
        "colab": {
          "base_uri": "https://localhost:8080/"
        },
        "outputId": "9dd3e730-2879-4602-c25b-b61a186b37e2"
      },
      "outputs": [
        {
          "output_type": "execute_result",
          "data": {
            "text/plain": [
              "5"
            ]
          },
          "metadata": {},
          "execution_count": 20
        }
      ],
      "source": [
        "len(Olympian[3])"
      ]
    },
    {
      "cell_type": "code",
      "execution_count": null,
      "id": "e1acaaf4-3197-42e7-887e-c63321af12c2",
      "metadata": {
        "id": "e1acaaf4-3197-42e7-887e-c63321af12c2"
      },
      "outputs": [],
      "source": [
        "#Unpacking tuples\n",
        "points = (7, 14, 21)\n",
        "x,y,z = points\n"
      ]
    },
    {
      "cell_type": "code",
      "execution_count": null,
      "id": "6147126f-c194-432e-8415-a5fcf95dcb7a",
      "metadata": {
        "id": "6147126f-c194-432e-8415-a5fcf95dcb7a",
        "colab": {
          "base_uri": "https://localhost:8080/"
        },
        "outputId": "b2abe326-1c38-4dc7-b7fb-393f7188aba9"
      },
      "outputs": [
        {
          "output_type": "execute_result",
          "data": {
            "text/plain": [
              "7"
            ]
          },
          "metadata": {},
          "execution_count": 22
        }
      ],
      "source": [
        "x"
      ]
    },
    {
      "cell_type": "code",
      "execution_count": null,
      "id": "6e137ebd-a3e3-41f0-b3c1-425f16484bbc",
      "metadata": {
        "id": "6e137ebd-a3e3-41f0-b3c1-425f16484bbc",
        "colab": {
          "base_uri": "https://localhost:8080/"
        },
        "outputId": "fd3f7de4-5b0a-4de5-8eb0-a1e47d487720"
      },
      "outputs": [
        {
          "output_type": "execute_result",
          "data": {
            "text/plain": [
              "14"
            ]
          },
          "metadata": {},
          "execution_count": 24
        }
      ],
      "source": [
        "y"
      ]
    },
    {
      "cell_type": "code",
      "execution_count": null,
      "id": "ba96bd38-1fac-4dcf-a6b4-670c4eb2b499",
      "metadata": {
        "id": "ba96bd38-1fac-4dcf-a6b4-670c4eb2b499",
        "colab": {
          "base_uri": "https://localhost:8080/"
        },
        "outputId": "905f632f-bffa-4bb8-f312-c632b321539a"
      },
      "outputs": [
        {
          "output_type": "execute_result",
          "data": {
            "text/plain": [
              "21"
            ]
          },
          "metadata": {},
          "execution_count": 23
        }
      ],
      "source": [
        "z"
      ]
    },
    {
      "cell_type": "code",
      "execution_count": null,
      "id": "1ed5de60-594b-4988-98e8-018c31b44eed",
      "metadata": {
        "id": "1ed5de60-594b-4988-98e8-018c31b44eed",
        "colab": {
          "base_uri": "https://localhost:8080/"
        },
        "outputId": "3968d821-9aca-4c9a-e485-68151f4ceed3"
      },
      "outputs": [
        {
          "output_type": "execute_result",
          "data": {
            "text/plain": [
              "tuple"
            ]
          },
          "metadata": {},
          "execution_count": 28
        }
      ],
      "source": [
        "u = 7,14,21\n",
        "type(u)"
      ]
    },
    {
      "cell_type": "code",
      "execution_count": null,
      "id": "d3a57aa4-ef1b-4dfd-a7a0-2815d8456a5c",
      "metadata": {
        "id": "d3a57aa4-ef1b-4dfd-a7a0-2815d8456a5c",
        "colab": {
          "base_uri": "https://localhost:8080/"
        },
        "outputId": "85811f68-668a-45b7-8bc3-6a06716d5e08"
      },
      "outputs": [
        {
          "output_type": "execute_result",
          "data": {
            "text/plain": [
              "(7, 14, 21)"
            ]
          },
          "metadata": {},
          "execution_count": 29
        }
      ],
      "source": [
        "u"
      ]
    },
    {
      "cell_type": "code",
      "execution_count": null,
      "id": "820ac91e-20ce-40ab-b71d-e6f4852bf7ad",
      "metadata": {
        "id": "820ac91e-20ce-40ab-b71d-e6f4852bf7ad"
      },
      "outputs": [],
      "source": [
        "#Swap operations\n",
        "a = 200\n",
        "b = 400\n",
        "temp = a\n",
        "a = b\n",
        "b = temp"
      ]
    },
    {
      "cell_type": "code",
      "execution_count": null,
      "id": "6972fe49-25d5-48f0-9b44-78e240c1d214",
      "metadata": {
        "id": "6972fe49-25d5-48f0-9b44-78e240c1d214",
        "colab": {
          "base_uri": "https://localhost:8080/"
        },
        "outputId": "627e8386-caf7-435b-f1a4-5e16acd92629"
      },
      "outputs": [
        {
          "output_type": "execute_result",
          "data": {
            "text/plain": [
              "400"
            ]
          },
          "metadata": {},
          "execution_count": 31
        }
      ],
      "source": [
        "a"
      ]
    },
    {
      "cell_type": "code",
      "execution_count": null,
      "id": "14470b29-cbd9-44bf-9fd7-80ccb0e483a0",
      "metadata": {
        "id": "14470b29-cbd9-44bf-9fd7-80ccb0e483a0",
        "colab": {
          "base_uri": "https://localhost:8080/"
        },
        "outputId": "66ffc91a-eba3-44c6-d030-e48710473cf6"
      },
      "outputs": [
        {
          "output_type": "execute_result",
          "data": {
            "text/plain": [
              "200"
            ]
          },
          "metadata": {},
          "execution_count": 32
        }
      ],
      "source": [
        "b"
      ]
    },
    {
      "cell_type": "code",
      "execution_count": null,
      "id": "3da62c8f-0f93-4dad-bb08-df55e6a01262",
      "metadata": {
        "id": "3da62c8f-0f93-4dad-bb08-df55e6a01262",
        "colab": {
          "base_uri": "https://localhost:8080/"
        },
        "outputId": "edbf6013-9c94-49a1-cb2e-64f1f11b2ce9"
      },
      "outputs": [
        {
          "output_type": "stream",
          "name": "stdout",
          "text": [
            "20 10\n"
          ]
        }
      ],
      "source": [
        "#Use unpacking syntax to swap\n",
        "a = 10; b = 20\n",
        "a, b = b, a\n",
        "print(a,b)"
      ]
    },
    {
      "cell_type": "code",
      "execution_count": null,
      "id": "56487ca0-f401-4c0c-a81b-b36097680fae",
      "metadata": {
        "id": "56487ca0-f401-4c0c-a81b-b36097680fae",
        "colab": {
          "base_uri": "https://localhost:8080/"
        },
        "outputId": "def17f11-173e-494c-c9d7-ed02071d6c4f"
      },
      "outputs": [
        {
          "output_type": "stream",
          "name": "stdout",
          "text": [
            "(10, 20, (0, 1, 2), (3, 4, 5, 6))\n"
          ]
        },
        {
          "output_type": "execute_result",
          "data": {
            "text/plain": [
              "tuple"
            ]
          },
          "metadata": {},
          "execution_count": 34
        }
      ],
      "source": [
        "#Packing\n",
        "a = 10; b=20; c=(0,1,2); d=(3,4,5,6);\n",
        "z = a,b,c,d\n",
        "print(z)\n",
        "type(z)"
      ]
    },
    {
      "cell_type": "code",
      "execution_count": null,
      "id": "d525f06a-7ecc-45e0-9638-964eca4af35c",
      "metadata": {
        "id": "d525f06a-7ecc-45e0-9638-964eca4af35c",
        "colab": {
          "base_uri": "https://localhost:8080/"
        },
        "outputId": "b8ba2d01-0e49-42cc-d737-196046820931"
      },
      "outputs": [
        {
          "output_type": "stream",
          "name": "stdout",
          "text": [
            "[1, 2, 4, 5, 6]\n",
            "9\n"
          ]
        },
        {
          "output_type": "execute_result",
          "data": {
            "text/plain": [
              "list"
            ]
          },
          "metadata": {},
          "execution_count": 35
        }
      ],
      "source": [
        "#Flexible unpacking using *\n",
        "numbers = (1,2,4,5,6,9)\n",
        "*head, last = numbers\n",
        "print(head)\n",
        "print(last)\n",
        "type(head)"
      ]
    },
    {
      "cell_type": "code",
      "execution_count": null,
      "id": "b129c695-af9b-434b-b547-eab5e123ea92",
      "metadata": {
        "id": "b129c695-af9b-434b-b547-eab5e123ea92",
        "colab": {
          "base_uri": "https://localhost:8080/"
        },
        "outputId": "f1e388ae-eab5-48c1-f16c-b3b3b6678b3b"
      },
      "outputs": [
        {
          "output_type": "stream",
          "name": "stdout",
          "text": [
            "head= 1\n",
            "middle= 2\n",
            "last= [4, 5, 6, 9]\n"
          ]
        }
      ],
      "source": [
        "a, *b, c = numbers\n",
        "head, middle, *last = numbers\n",
        "print(\"head=\",head)\n",
        "print(\"middle=\",middle)\n",
        "print(\"last=\",last)"
      ]
    },
    {
      "cell_type": "code",
      "execution_count": null,
      "id": "6ec33060-5f88-4107-a93a-f25de88fb7a4",
      "metadata": {
        "id": "6ec33060-5f88-4107-a93a-f25de88fb7a4",
        "colab": {
          "base_uri": "https://localhost:8080/"
        },
        "outputId": "89e094f5-a670-46c1-8598-709990e2ac5f"
      },
      "outputs": [
        {
          "output_type": "execute_result",
          "data": {
            "text/plain": [
              "[1, 2, 4, 5, 6]"
            ]
          },
          "metadata": {},
          "execution_count": 37
        }
      ],
      "source": [
        "head"
      ]
    },
    {
      "cell_type": "code",
      "execution_count": null,
      "id": "c6192c21-a502-4d2d-8fbe-3355fd419767",
      "metadata": {
        "id": "c6192c21-a502-4d2d-8fbe-3355fd419767",
        "colab": {
          "base_uri": "https://localhost:8080/",
          "height": 167
        },
        "outputId": "b5f502e8-fa41-42fc-aa27-586f84b15dd5"
      },
      "outputs": [
        {
          "output_type": "error",
          "ename": "NameError",
          "evalue": "name 'middle' is not defined",
          "traceback": [
            "\u001b[0;31m---------------------------------------------------------------------------\u001b[0m",
            "\u001b[0;31mNameError\u001b[0m                                 Traceback (most recent call last)",
            "\u001b[0;32m<ipython-input-38-c58943aa356b>\u001b[0m in \u001b[0;36m<cell line: 1>\u001b[0;34m()\u001b[0m\n\u001b[0;32m----> 1\u001b[0;31m \u001b[0mmiddle\u001b[0m\u001b[0;34m\u001b[0m\u001b[0;34m\u001b[0m\u001b[0m\n\u001b[0m",
            "\u001b[0;31mNameError\u001b[0m: name 'middle' is not defined"
          ]
        }
      ],
      "source": [
        "middle"
      ]
    },
    {
      "cell_type": "code",
      "execution_count": null,
      "id": "3ce82466-571e-43da-abfa-71651e5178bb",
      "metadata": {
        "id": "3ce82466-571e-43da-abfa-71651e5178bb"
      },
      "outputs": [],
      "source": [
        "last"
      ]
    },
    {
      "cell_type": "code",
      "execution_count": null,
      "id": "95f3d204-4948-4722-8cb2-1ef33daf6990",
      "metadata": {
        "id": "95f3d204-4948-4722-8cb2-1ef33daf6990",
        "colab": {
          "base_uri": "https://localhost:8080/"
        },
        "outputId": "93adf39a-400b-49b6-ca11-737f40516a63"
      },
      "outputs": [
        {
          "output_type": "stream",
          "name": "stdout",
          "text": [
            "n1= [2, 3, 5, 7, 11, 13, 17, 19, 23, 29]\n",
            "n2= [2, 3, 5, 7, 11, 13, 17, 19, 23, 29]\n"
          ]
        }
      ],
      "source": [
        "prime_numbers = [2, 3, 5, 7, 11, 13, 17, 19, 23, 29]\n",
        "n1 = prime_numbers.copy()\n",
        "print('n1=', n1)\n",
        "n2 = prime_numbers\n",
        "print('n2=', n2)"
      ]
    },
    {
      "cell_type": "code",
      "execution_count": null,
      "id": "adb5ac0d-127e-48c9-902d-a12e4fa817f1",
      "metadata": {
        "id": "adb5ac0d-127e-48c9-902d-a12e4fa817f1"
      },
      "outputs": [],
      "source": [
        "id?"
      ]
    },
    {
      "cell_type": "code",
      "execution_count": null,
      "id": "6c2c9c8f-3f5b-40c2-bea4-c7b9ba2ce0f1",
      "metadata": {
        "id": "6c2c9c8f-3f5b-40c2-bea4-c7b9ba2ce0f1",
        "colab": {
          "base_uri": "https://localhost:8080/"
        },
        "outputId": "580cdad5-57f2-48bd-9d27-86e162becc09"
      },
      "outputs": [
        {
          "output_type": "execute_result",
          "data": {
            "text/plain": [
              "132095749496064"
            ]
          },
          "metadata": {},
          "execution_count": 43
        }
      ],
      "source": [
        "id(n1)"
      ]
    },
    {
      "cell_type": "code",
      "execution_count": null,
      "id": "6e687e14-33c1-4346-8a48-bbe8ea351d64",
      "metadata": {
        "id": "6e687e14-33c1-4346-8a48-bbe8ea351d64",
        "colab": {
          "base_uri": "https://localhost:8080/"
        },
        "outputId": "0735bcb5-299a-4930-eef2-1815558816c4"
      },
      "outputs": [
        {
          "output_type": "execute_result",
          "data": {
            "text/plain": [
              "0"
            ]
          },
          "metadata": {},
          "execution_count": 46
        }
      ],
      "source": [
        "id(prime_numbers)-id(n2)"
      ]
    },
    {
      "cell_type": "code",
      "execution_count": null,
      "id": "9fdf3f13-0f42-4fe1-881a-6cc0106f35d1",
      "metadata": {
        "id": "9fdf3f13-0f42-4fe1-881a-6cc0106f35d1"
      },
      "outputs": [],
      "source": [
        "#n1 is a shallow copy, n2"
      ]
    },
    {
      "cell_type": "code",
      "execution_count": null,
      "id": "64dd0438-112d-47d8-a206-5d543f5c7caa",
      "metadata": {
        "id": "64dd0438-112d-47d8-a206-5d543f5c7caa",
        "colab": {
          "base_uri": "https://localhost:8080/"
        },
        "outputId": "6d862484-de71-4a24-ebc5-69aba0065cc6"
      },
      "outputs": [
        {
          "output_type": "stream",
          "name": "stdout",
          "text": [
            "[[1, 2, 3], [4, 5, 6], [7, 8, 9]]\n"
          ]
        },
        {
          "output_type": "execute_result",
          "data": {
            "text/plain": [
              "0"
            ]
          },
          "metadata": {},
          "execution_count": 73
        }
      ],
      "source": [
        "xs = [[1, 2, 3], [4, 5, 6], [7, 8, 9]]\n",
        "ys = xs\n",
        "print(ys)\n",
        "abs(id(xs) - id(ys))"
      ]
    },
    {
      "cell_type": "code",
      "execution_count": null,
      "id": "e1255c92-b2cc-4a9e-85ac-47836f69d728",
      "metadata": {
        "id": "e1255c92-b2cc-4a9e-85ac-47836f69d728",
        "colab": {
          "base_uri": "https://localhost:8080/"
        },
        "outputId": "969ca7e8-ce1a-494d-a71c-53885feda843"
      },
      "outputs": [
        {
          "output_type": "execute_result",
          "data": {
            "text/plain": [
              "[[1, 2, 3], [4, 5, 6], [7, 8, 9]]"
            ]
          },
          "metadata": {},
          "execution_count": 74
        }
      ],
      "source": [
        "ys"
      ]
    },
    {
      "cell_type": "code",
      "execution_count": null,
      "id": "2d4b95f9-8890-4d3e-8301-3b6a92b8872c",
      "metadata": {
        "id": "2d4b95f9-8890-4d3e-8301-3b6a92b8872c",
        "colab": {
          "base_uri": "https://localhost:8080/"
        },
        "outputId": "3e115a84-09e2-4d5e-c39f-ee6566c69cd1"
      },
      "outputs": [
        {
          "output_type": "stream",
          "name": "stdout",
          "text": [
            "[[1, 2, 3], [4, 5, 6], [7, 8, 9], [10, 11, 12]]\n",
            "id(xs)=132095300128384,id(ys)=132095300128384\n"
          ]
        }
      ],
      "source": [
        "xs.append([10,11,12])\n",
        "print(xs)\n",
        "print(f'id(xs)={id(xs)},id(ys)={id(ys)}')"
      ]
    },
    {
      "cell_type": "code",
      "execution_count": null,
      "id": "1760ebe9-f620-481f-b24a-8f392c7d2717",
      "metadata": {
        "id": "1760ebe9-f620-481f-b24a-8f392c7d2717",
        "colab": {
          "base_uri": "https://localhost:8080/"
        },
        "outputId": "3ac6e067-ed1e-4e28-e4b6-4c9e83c0edff"
      },
      "outputs": [
        {
          "output_type": "execute_result",
          "data": {
            "text/plain": [
              "132095300122624"
            ]
          },
          "metadata": {},
          "execution_count": 63
        }
      ],
      "source": [
        "id(ys)"
      ]
    },
    {
      "cell_type": "code",
      "execution_count": null,
      "id": "284570b8-cd00-4c3a-b71a-0dbbfa21337d",
      "metadata": {
        "id": "284570b8-cd00-4c3a-b71a-0dbbfa21337d",
        "colab": {
          "base_uri": "https://localhost:8080/"
        },
        "outputId": "99ff35f3-2344-4f8d-ea90-6a5f84dd1bc2"
      },
      "outputs": [
        {
          "output_type": "execute_result",
          "data": {
            "text/plain": [
              "[[1, 2, 3], [4, 5, 6], [7, 8, 9], [10, 11, 12]]"
            ]
          },
          "metadata": {},
          "execution_count": 76
        }
      ],
      "source": [
        "xs"
      ]
    },
    {
      "cell_type": "code",
      "execution_count": null,
      "id": "0e2a31cd-9898-49c9-97fc-9cd9876dc0e4",
      "metadata": {
        "id": "0e2a31cd-9898-49c9-97fc-9cd9876dc0e4"
      },
      "outputs": [],
      "source": [
        "xs"
      ]
    },
    {
      "cell_type": "code",
      "execution_count": null,
      "id": "07f609dd-0145-49f7-b31d-b1b1b668990f",
      "metadata": {
        "id": "07f609dd-0145-49f7-b31d-b1b1b668990f",
        "colab": {
          "base_uri": "https://localhost:8080/"
        },
        "outputId": "eb94b666-48c2-41e3-b6cc-b572876712d0"
      },
      "outputs": [
        {
          "output_type": "execute_result",
          "data": {
            "text/plain": [
              "[10, 11, 12]"
            ]
          },
          "metadata": {},
          "execution_count": 77
        }
      ],
      "source": [
        "xs.pop()"
      ]
    },
    {
      "cell_type": "code",
      "execution_count": null,
      "id": "c7987591-e3a8-4c49-bc4d-8b59f8d0aa46",
      "metadata": {
        "id": "c7987591-e3a8-4c49-bc4d-8b59f8d0aa46",
        "colab": {
          "base_uri": "https://localhost:8080/"
        },
        "outputId": "b523ff93-df3e-4077-b59c-57b7ba3d5964"
      },
      "outputs": [
        {
          "output_type": "execute_result",
          "data": {
            "text/plain": [
              "[[1, 2, 3], [4, 5, 6], [7, 8, 9]]"
            ]
          },
          "metadata": {},
          "execution_count": 78
        }
      ],
      "source": [
        "ys"
      ]
    },
    {
      "cell_type": "code",
      "execution_count": null,
      "id": "a70fe335-65ae-4a3a-a93b-114f63982c03",
      "metadata": {
        "id": "a70fe335-65ae-4a3a-a93b-114f63982c03"
      },
      "outputs": [],
      "source": [
        "zs = xs\n",
        "print(zs)"
      ]
    },
    {
      "cell_type": "code",
      "execution_count": null,
      "id": "be1ab626-ddb9-4d02-bd7f-fe01c9be8cb7",
      "metadata": {
        "id": "be1ab626-ddb9-4d02-bd7f-fe01c9be8cb7"
      },
      "outputs": [],
      "source": [
        "xs.append([10,11,12])\n",
        "xs"
      ]
    },
    {
      "cell_type": "code",
      "execution_count": null,
      "id": "c63ebca4-96b6-4d09-80ad-13a83d87c769",
      "metadata": {
        "id": "c63ebca4-96b6-4d09-80ad-13a83d87c769"
      },
      "outputs": [],
      "source": [
        "ys"
      ]
    },
    {
      "cell_type": "code",
      "execution_count": null,
      "id": "6f167cd9-9c51-42ac-89be-c8e6de94dc7e",
      "metadata": {
        "id": "6f167cd9-9c51-42ac-89be-c8e6de94dc7e"
      },
      "outputs": [],
      "source": [
        "zs"
      ]
    },
    {
      "cell_type": "code",
      "execution_count": null,
      "id": "0fdaff9b-d699-489c-af6c-bb17ef4fc14c",
      "metadata": {
        "id": "0fdaff9b-d699-489c-af6c-bb17ef4fc14c",
        "colab": {
          "base_uri": "https://localhost:8080/"
        },
        "outputId": "20e36728-cc73-4a2f-801e-3f93ccd9d29f"
      },
      "outputs": [
        {
          "output_type": "execute_result",
          "data": {
            "text/plain": [
              "[('apple', 3), ('banana', 4), ('orange', 1), ('pear', 4)]"
            ]
          },
          "metadata": {},
          "execution_count": 79
        }
      ],
      "source": [
        "# a list of (fruit, number) pairs\n",
        "[('apple', 3), ('banana', 4) , ('orange', 1), ('pear', 4)]"
      ]
    },
    {
      "cell_type": "code",
      "source": [
        "l1 = [('apple', 3), ('banana', 4) , ('orange', 1), ('pear', 4)]"
      ],
      "metadata": {
        "id": "Eg9Oa1XS5iav"
      },
      "id": "Eg9Oa1XS5iav",
      "execution_count": null,
      "outputs": []
    },
    {
      "cell_type": "code",
      "source": [
        "# Unpacking\n",
        "a,b = l1[0]\n",
        "print(a, b)\n",
        "c,d = l1[1]\n",
        "print(c, d)\n",
        "e,f = l1[2]\n",
        "print(e, f)\n",
        "g,h = l1[3]\n",
        "print(g, h)"
      ],
      "metadata": {
        "colab": {
          "base_uri": "https://localhost:8080/"
        },
        "id": "SEO5r1hS5ojN",
        "outputId": "cff0c858-363b-4327-b264-d7f256c72795"
      },
      "id": "SEO5r1hS5ojN",
      "execution_count": null,
      "outputs": [
        {
          "output_type": "stream",
          "name": "stdout",
          "text": [
            "apple 3\n",
            "banana 4\n",
            "orange 1\n",
            "pear 4\n"
          ]
        }
      ]
    },
    {
      "cell_type": "code",
      "source": [
        "#Packing - no paratheses is required to build a tuple\n",
        "list_2 = 2, 4, 5\n",
        "list_2"
      ],
      "metadata": {
        "colab": {
          "base_uri": "https://localhost:8080/"
        },
        "id": "S_HHLmML5sGz",
        "outputId": "452baf4f-12a8-4874-d107-7b72c18597e0"
      },
      "id": "S_HHLmML5sGz",
      "execution_count": null,
      "outputs": [
        {
          "output_type": "execute_result",
          "data": {
            "text/plain": [
              "(2, 4, 5)"
            ]
          },
          "metadata": {},
          "execution_count": 6
        }
      ]
    },
    {
      "cell_type": "code",
      "source": [
        "#Revisiting immutable tuples and mutable lists\n",
        "student_info = (\"Bill\", 18, [\"Mathematics\", \"Physics\", \"History\"])\n",
        "student_info[2][2]=\"Chemistry\" ## changed one entry of the mutable list using changed indices\n",
        "print(student_info)\n",
        "student_info[2].append(\"Geography\")\n",
        "print(student_info)\n",
        "student_info[2].remove(\"Chemistry\")\n",
        "print(student_info)"
      ],
      "metadata": {
        "colab": {
          "base_uri": "https://localhost:8080/"
        },
        "id": "KLdJJtD76KRQ",
        "outputId": "cfbd76cf-7663-4917-a1ac-2efe05de426d"
      },
      "id": "KLdJJtD76KRQ",
      "execution_count": null,
      "outputs": [
        {
          "output_type": "stream",
          "name": "stdout",
          "text": [
            "('Bill', 18, ['Mathematics', 'Physics', 'Chemistry'])\n",
            "('Bill', 18, ['Mathematics', 'Physics', 'Chemistry', 'Geography'])\n",
            "('Bill', 18, ['Mathematics', 'Physics', 'Geography'])\n"
          ]
        }
      ]
    },
    {
      "cell_type": "code",
      "source": [
        "import math\n",
        "x = math.sin(math.pi)\n",
        "y = math.sin(x)\n",
        "z = y/x\n",
        "print(z)"
      ],
      "metadata": {
        "colab": {
          "base_uri": "https://localhost:8080/"
        },
        "id": "OGDrqUFQVqoW",
        "outputId": "d4de767e-c331-46d3-c1b5-9e13bae7afa4"
      },
      "id": "OGDrqUFQVqoW",
      "execution_count": null,
      "outputs": [
        {
          "output_type": "stream",
          "name": "stdout",
          "text": [
            "1.0\n"
          ]
        }
      ]
    },
    {
      "cell_type": "code",
      "source": [
        "# prompt: randomly select 5 items from a list\n",
        "\n",
        "import random\n",
        "my_list = [1, 2, 3, 4, 5, 6, 7, 8, 9, 10]\n",
        "random.sample(my_list, 5)\n",
        "range(1,15)\n",
        "list(range(1,15))\n",
        "#iterators\n",
        "for i in range(15,1,-1):\n",
        "  print(i)"
      ],
      "metadata": {
        "colab": {
          "base_uri": "https://localhost:8080/"
        },
        "id": "e5CNoioI7EuJ",
        "outputId": "b6931bc0-dfb3-4d18-83d5-0664aec7a1a2"
      },
      "id": "e5CNoioI7EuJ",
      "execution_count": null,
      "outputs": [
        {
          "output_type": "stream",
          "name": "stdout",
          "text": [
            "15\n",
            "14\n",
            "13\n",
            "12\n",
            "11\n",
            "10\n",
            "9\n",
            "8\n",
            "7\n",
            "6\n",
            "5\n",
            "4\n",
            "3\n",
            "2\n"
          ]
        }
      ]
    },
    {
      "cell_type": "code",
      "source": [
        "# Create a list of random numbers, sort the numbers, find the greatest number\n",
        "\n",
        "import random #call to a module called random\n",
        "\n",
        "# Create a list of 10 random numbers between 1 and 100\n",
        "random_numbers = random.sample(range(1, 101), 10)\n",
        "print(\"Unsorted:\", random_numbers)\n",
        "\n",
        "# Sort the list in ascending order\n",
        "random_numbers.sort()\n",
        "print(\"Sorted:\", random_numbers)\n",
        "\n",
        "# The greatest number is the last element in the sorted list\n",
        "greatest_number = random_numbers[-1]\n",
        "print(\"Greatest number:\", greatest_number)\n",
        "\n"
      ],
      "metadata": {
        "colab": {
          "base_uri": "https://localhost:8080/"
        },
        "id": "LRWlsm7R8WP-",
        "outputId": "a8cd546e-d22e-42ab-a424-c80eeea8f228"
      },
      "id": "LRWlsm7R8WP-",
      "execution_count": null,
      "outputs": [
        {
          "output_type": "stream",
          "name": "stdout",
          "text": [
            "Unsorted: [10, 3, 100, 55, 13, 6, 85, 15, 43, 50]\n",
            "Sorted: [3, 6, 10, 13, 15, 43, 50, 55, 85, 100]\n",
            "Greatest number: 100\n"
          ]
        }
      ]
    },
    {
      "cell_type": "code",
      "source": [
        "# In the above example, sort in descending order\n",
        "\n",
        "import random\n",
        "\n",
        "# Create a list of 10 random numbers between 1 and 100\n",
        "random_numbers = random.sample(range(1, 101), 10)\n",
        "print(\"Unsorted:\", random_numbers)\n",
        "\n",
        "# Sort the list in descending order\n",
        "random_numbers.sort(reverse=True)\n",
        "print(\"Sorted:\", random_numbers)\n",
        "\n",
        "# The greatest number is the first element in the sorted list\n",
        "greatest_number = random_numbers[0]\n",
        "print(\"Greatest number:\", greatest_number)\n"
      ],
      "metadata": {
        "colab": {
          "base_uri": "https://localhost:8080/"
        },
        "id": "MNyzIMC28u3D",
        "outputId": "982581db-e3ca-49e9-f0c4-f325927a7e26"
      },
      "id": "MNyzIMC28u3D",
      "execution_count": null,
      "outputs": [
        {
          "output_type": "stream",
          "name": "stdout",
          "text": [
            "Unsorted: [7, 40, 92, 89, 19, 90, 52, 84, 17, 88]\n",
            "Sorted: [92, 90, 89, 88, 84, 52, 40, 19, 17, 7]\n",
            "Greatest number: 92\n"
          ]
        }
      ]
    },
    {
      "cell_type": "code",
      "source": [
        "import random as ran\n",
        "mlist1=ran.sample(['yellow','red','blue','green','white','black','brown','pink'], 5)\n",
        "print(mlist1)\n",
        "mlist1.sort()\n",
        "print(mlist1)"
      ],
      "metadata": {
        "colab": {
          "base_uri": "https://localhost:8080/"
        },
        "id": "1BklkrpZ9D4o",
        "outputId": "c38ab134-bef5-463c-cd46-a738a3d8f250"
      },
      "id": "1BklkrpZ9D4o",
      "execution_count": null,
      "outputs": [
        {
          "output_type": "stream",
          "name": "stdout",
          "text": [
            "['brown', 'blue', 'white', 'red', 'green']\n",
            "['blue', 'brown', 'green', 'red', 'white']\n"
          ]
        }
      ]
    },
    {
      "cell_type": "code",
      "source": [
        "#Sets - unordered collection of items with no duplicate elements\n",
        "{1,2,2,2,1,2,3,4,4,5,6,6,7,8,9,1,2,3,4,3,5,6,2,3,4}"
      ],
      "metadata": {
        "colab": {
          "base_uri": "https://localhost:8080/"
        },
        "id": "08WC8ZY19K7V",
        "outputId": "6485b320-df69-479a-9b5a-ea27f551428e"
      },
      "id": "08WC8ZY19K7V",
      "execution_count": null,
      "outputs": [
        {
          "output_type": "execute_result",
          "data": {
            "text/plain": [
              "{1, 2, 3, 4, 5, 6, 7, 8, 9}"
            ]
          },
          "metadata": {},
          "execution_count": 3
        }
      ]
    },
    {
      "cell_type": "code",
      "source": [
        "# why sets of integers are unordered\n",
        "l1 = [10, 5, 2, 8, 1]\n",
        "l2 = l1.copy()\n",
        "l2.sort()\n",
        "print(f'l1={l1}, l2={l2}')\n",
        "my_set = set(l1)\n",
        "print(my_set)  # Output will likely be in a different order\n",
        "print(l1==l2)\n",
        "my_set2 = set(l2)\n",
        "print(my_set2)  # Output will likely be in a different order again\n",
        "\n",
        "print(my_set == my_set2)  # True, because sets don't care about order\n"
      ],
      "metadata": {
        "colab": {
          "base_uri": "https://localhost:8080/"
        },
        "id": "303ne1Xr_vba",
        "outputId": "6a714a9f-718d-4142-e14d-b00a85ed2e39"
      },
      "id": "303ne1Xr_vba",
      "execution_count": null,
      "outputs": [
        {
          "output_type": "stream",
          "name": "stdout",
          "text": [
            "l1=[10, 5, 2, 8, 1], l2=[1, 2, 5, 8, 10]\n",
            "{1, 2, 5, 8, 10}\n",
            "False\n",
            "{1, 2, 5, 8, 10}\n",
            "True\n"
          ]
        }
      ]
    },
    {
      "cell_type": "code",
      "source": [
        "#Arithmetic operators in python\n",
        "\n",
        "#Addition +\n",
        "a = 5 + 2\n",
        "#Subtraction -\n",
        "b = 5 - 2\n",
        "#Multiplication *\n",
        "c = 5 * 2\n",
        "#Division /\n",
        "d = 5 / 2\n",
        "#Floor division //\n",
        "e = 5 // 2\n",
        "#Modulus %\n",
        "f = 5 % 2\n",
        "#Exponentiation **\n",
        "g = 5 ** 2\n",
        "\n",
        "print(f\"a={a}, b={b}, c={c}, d={d}, e={e}, f={f}, g={g}\")\n",
        "\n"
      ],
      "metadata": {
        "colab": {
          "base_uri": "https://localhost:8080/"
        },
        "id": "7-jk6YmQJGJi",
        "outputId": "c7ed8398-a0f9-4c27-f27c-df5ee459af0a"
      },
      "id": "7-jk6YmQJGJi",
      "execution_count": null,
      "outputs": [
        {
          "output_type": "stream",
          "name": "stdout",
          "text": [
            "a=7, b=3, c=10, d=2.5, e=2, f=1, g=25\n"
          ]
        }
      ]
    },
    {
      "cell_type": "code",
      "source": [
        "#Assignment operators\n",
        "x = 2\n",
        "x += 3  # Equivalent to x = x + 3\n",
        "print(x)  # Output: 5\n",
        "\n",
        "x -= 2  # Equivalent to x = x - 2\n",
        "print(x)  # Output: 3\n",
        "\n",
        "x *= 4  # Equivalent to x = x * 4\n",
        "print(x)  # Output: 12\n",
        "\n",
        "x /= 3  # Equivalent to x = x / 3\n",
        "print(x)  # Output: 4.0\n",
        "\n",
        "x **= 2  # Equivalent to x = x ** 2\n",
        "print(x)  # Output: 16.0\n",
        "\n",
        "x //= 5  # Equivalent to x = x // 5\n",
        "print(x)  # Output: 3.0\n",
        "\n",
        "x %= 2  # Equivalent to x = x % 2\n",
        "print(x)  # Output: 1.0\n",
        "\n",
        "type(x)"
      ],
      "metadata": {
        "id": "OTWCU_ZRJv37",
        "colab": {
          "base_uri": "https://localhost:8080/"
        },
        "outputId": "d9c539a6-e1e5-4864-fb96-c9699a92eef1"
      },
      "id": "OTWCU_ZRJv37",
      "execution_count": null,
      "outputs": [
        {
          "output_type": "stream",
          "name": "stdout",
          "text": [
            "5\n",
            "3\n",
            "12\n",
            "4.0\n",
            "16.0\n",
            "3.0\n",
            "1.0\n"
          ]
        },
        {
          "output_type": "execute_result",
          "data": {
            "text/plain": [
              "float"
            ]
          },
          "metadata": {},
          "execution_count": 3
        }
      ]
    },
    {
      "cell_type": "code",
      "source": [
        "# Comparison operators\n",
        "# > (greater than)\n",
        "# < (less than)\n",
        "# >= (greater than or equal)\n",
        "# <= (less than or equal)\n",
        "# == (equal)\n",
        "# != (not equal)\n",
        "\n",
        "# Logical expressions are statements that can either be true or false\n",
        "# Returns a boolean \"True\" or \"False\"\n",
        "\n",
        "a = 4 == 5\n",
        "print(a)\n",
        "\n",
        "b = 5 == 5\n",
        "print(b)\n",
        "\n",
        "c = 4 != 5\n",
        "print(c)\n",
        "\n",
        "d = 5 != 5\n",
        "print(d)\n",
        "\n"
      ],
      "metadata": {
        "colab": {
          "base_uri": "https://localhost:8080/"
        },
        "id": "_9FA2FvIBCEA",
        "outputId": "168617d2-aeb3-40bc-9fe4-4520dd71cb20"
      },
      "id": "_9FA2FvIBCEA",
      "execution_count": null,
      "outputs": [
        {
          "output_type": "stream",
          "name": "stdout",
          "text": [
            "False\n",
            "True\n",
            "True\n",
            "False\n"
          ]
        }
      ]
    },
    {
      "cell_type": "code",
      "source": [
        "# Logical Operators:\n",
        "\n",
        "# and: Returns True if both statements are True.\n",
        "print(True and True)   # Output: True\n",
        "print(True and False)  # Output: False\n",
        "\n",
        "# or: Returns True if at least one statement is True.\n",
        "print(True or False)   # Output: True\n",
        "print(False or False)  # Output: False\n",
        "\n",
        "# not: Returns the opposite boolean value.\n",
        "print(not True)    # Output: False\n",
        "print(not False)   # Output: True\n",
        "\n",
        "# Examples:\n",
        "\n",
        "x = 5\n",
        "y = 10\n",
        "\n",
        "# Using 'and'\n",
        "if x > 0 and y < 20:\n",
        "  print(\"Both conditions are True\")\n",
        "\n",
        "# Using 'or'\n",
        "if x < 3 or y > 5:\n",
        "  print(\"At least one condition is True\")\n",
        "\n",
        "# Using 'not'\n",
        "if not x == y:\n",
        "  print(\"x is not equal to y\")\n"
      ],
      "metadata": {
        "colab": {
          "base_uri": "https://localhost:8080/"
        },
        "id": "RMpU1RMYDjNY",
        "outputId": "92dac898-33b6-4b22-c476-31f39aa0b813"
      },
      "id": "RMpU1RMYDjNY",
      "execution_count": null,
      "outputs": [
        {
          "output_type": "stream",
          "name": "stdout",
          "text": [
            "True\n",
            "False\n",
            "True\n",
            "False\n",
            "False\n",
            "True\n",
            "Both conditions are True\n",
            "At least one condition is True\n",
            "x is not equal to y\n"
          ]
        }
      ]
    },
    {
      "cell_type": "code",
      "source": [
        "# Bitwise AND Operator (&):\n",
        "\n",
        "# Explanation:\n",
        "# The bitwise AND operator (&) works on individual bits of two numbers.\n",
        "# It compares each corresponding bit and sets the resulting bit to 1 only if both bits are 1. Otherwise, it sets the resulting bit to 0.\n",
        "\n",
        "# Example:\n",
        "\n",
        "num1 = 10  # Binary representation: 1010\n",
        "num2 = 12  # Binary representation: 1100\n",
        "\n",
        "result = num1 & num2  # Bitwise AND operation\n",
        "\n",
        "print(result)  # Output: 8 (Binary representation: 1000)\n",
        "\n",
        "# Explanation of the example:\n",
        "\n",
        "# 1010 (num1)\n",
        "# 1100 (num2)\n",
        "# ----\n",
        "# 1000 (result)\n",
        "\n",
        "# As you can see, only the leftmost '1' bit is common to both num1 and num2, so the result is 1000 (decimal 8).\n"
      ],
      "metadata": {
        "id": "X-s01lNlK9Je"
      },
      "id": "X-s01lNlK9Je",
      "execution_count": null,
      "outputs": []
    },
    {
      "cell_type": "code",
      "source": [
        "# More examples of logical operators\n",
        "# Combine with conditional or branching statements\n",
        "\n",
        "# Example 1: Checking if a number is within a range\n",
        "num = 15\n",
        "if num >= 10 and num <= 20:\n",
        "  print(\"Number is within the range of 10 to 20\")\n",
        "else:\n",
        "  print(\"Number is outside the range of 10 to 20\")\n",
        "\n",
        "# Example 2: Checking if a user is eligible for a discount\n",
        "age = 25\n",
        "is_student = True\n",
        "if age < 18 or is_student:\n",
        "  print(\"Eligible for discount\")\n",
        "else:\n",
        "  print(\"Not eligible for discount\")\n",
        "\n",
        "# Example 3: Checking if a password meets certain criteria\n",
        "password = \"MyStrongPassword123\"\n",
        "if len(password) >= 8 and not password.islower() and not password.isupper():\n",
        "  print(\"Password meets the criteria\")\n",
        "else:\n",
        "  print(\"Password does not meet the criteria\")\n"
      ],
      "metadata": {
        "colab": {
          "base_uri": "https://localhost:8080/"
        },
        "id": "ul0wRBA9EcMZ",
        "outputId": "394c850b-d49a-4cb5-f310-4f52e2905ccc"
      },
      "id": "ul0wRBA9EcMZ",
      "execution_count": null,
      "outputs": [
        {
          "output_type": "stream",
          "name": "stdout",
          "text": [
            "Number is within the range of 10 to 20\n",
            "Eligible for discount\n",
            "Password meets the criteria\n"
          ]
        }
      ]
    },
    {
      "cell_type": "markdown",
      "source": [
        "Branching if-else statements\n",
        "\n",
        "if logical expression:\n",
        "\n",
        "    code block\n",
        "\n",
        "Extended branching\n",
        "\n",
        "if logical expression P:\n",
        "\n",
        "    code block 1\n",
        "\n",
        "elif logical expression Q:\n",
        "\n",
        "    code block 2\n",
        "\n",
        "elif logical expression R:\n",
        "\n",
        "    code block 3\n",
        "\n",
        "else:\n",
        "\n",
        "    code block 4\n",
        "     "
      ],
      "metadata": {
        "id": "T-B_9LmJFqeF"
      },
      "id": "T-B_9LmJFqeF"
    },
    {
      "cell_type": "code",
      "source": [
        "# % or modulus operator - returns remainder\n",
        "\n",
        "result1 = 10 % 3\n",
        "print(result1)  # Output: 1 (10 divided by 3 leaves a remainder of 1)\n",
        "\n",
        "result2 = 15 % 5\n",
        "print(result2)  # Output: 0 (15 is perfectly divisible by 5, no remainder)\n",
        "\n",
        "result3 = 23 % 7\n",
        "print(result3)  # Output: 2 (23 divided by 7 leaves a remainder of 2)\n",
        "\n",
        "a = 2 % 5\n",
        "print(a)\n",
        "\n",
        "b = 5 % 5\n",
        "print(b)\n",
        "\n",
        "c = 2 % 3\n",
        "print(c)\n",
        "\n",
        "d = 3 % 2\n",
        "print(d)\n",
        "\n",
        "e = 1.2 % 0.5\n",
        "print(e)"
      ],
      "metadata": {
        "colab": {
          "base_uri": "https://localhost:8080/"
        },
        "id": "6FwklBsZHIlt",
        "outputId": "0bc77b2c-eb6f-4ffa-a9da-020335a09af0"
      },
      "id": "6FwklBsZHIlt",
      "execution_count": null,
      "outputs": [
        {
          "output_type": "stream",
          "name": "stdout",
          "text": [
            "1\n",
            "0\n",
            "2\n",
            "2\n",
            "0\n",
            "2\n",
            "1\n",
            "0.19999999999999996\n"
          ]
        }
      ]
    },
    {
      "cell_type": "code",
      "source": [
        "print(0.1+0.1+0.1==0.3)\n",
        "print(0.1 + 0.2 == 0.3)\n",
        "print(0.1 + 0.1 == 0.2)"
      ],
      "metadata": {
        "colab": {
          "base_uri": "https://localhost:8080/"
        },
        "id": "YNwQ325inR2s",
        "outputId": "d0455796-bc29-4d7d-df8f-eaaa8e5ca6c3"
      },
      "id": "YNwQ325inR2s",
      "execution_count": null,
      "outputs": [
        {
          "output_type": "stream",
          "name": "stdout",
          "text": [
            "False\n",
            "False\n",
            "True\n"
          ]
        }
      ]
    },
    {
      "cell_type": "code",
      "source": [
        "x = 0.1 + 0.1 + 0.1\n",
        "print(x)\n",
        "if x == 0.3:\n",
        "    y = 2\n",
        "elif x > 0.3:\n",
        "    y = 4\n",
        "else:\n",
        "    y = 0\n",
        "print(y)"
      ],
      "metadata": {
        "colab": {
          "base_uri": "https://localhost:8080/"
        },
        "id": "ow92k2ZLGCZW",
        "outputId": "103ff2e0-061d-455c-f45d-57b12a6f55db"
      },
      "id": "ow92k2ZLGCZW",
      "execution_count": null,
      "outputs": [
        {
          "output_type": "stream",
          "name": "stdout",
          "text": [
            "0.30000000000000004\n",
            "4\n"
          ]
        }
      ]
    },
    {
      "cell_type": "code",
      "source": [
        "# Example 1: Check if a number is even or odd\n",
        "num = 7\n",
        "if num % 2 == 0:\n",
        "  print(\"The number is even.\")\n",
        "else:\n",
        "  print(\"The number is odd.\")\n",
        "\n",
        "# Example 2: Determine if a person is eligible to vote\n",
        "age = 17\n",
        "if age >= 18:\n",
        "  print(\"You are eligible to vote.\")\n",
        "else:\n",
        "  print(\"You are not eligible to vote yet.\")\n",
        "\n",
        "# Example 3: Check if a string is empty\n",
        "text = \"\"\n",
        "if text:\n",
        "  print(\"The string is not empty.\")\n",
        "else:\n",
        "  print(\"The string is empty.\")\n",
        "\n",
        "# Example 4: Grade a student based on their score\n",
        "score = 85\n",
        "if score >= 90:\n",
        "  print(\"Grade: A\")\n",
        "elif score >= 80:\n",
        "  print(\"Grade: B\")\n",
        "elif score >= 70:\n",
        "  print(\"Grade: C\")\n",
        "else:\n",
        "  print(\"Grade: F\")\n",
        "\n",
        "# Example 5: Check if a year is a leap year\n",
        "year = 2024\n",
        "if (year % 4 == 0 and year % 100 != 0) or year % 400 == 0:\n",
        "  print(year, \"is a leap year.\")\n",
        "else:\n",
        "  print(year, \"is not a leap year.\")\n"
      ],
      "metadata": {
        "id": "NAgxt4G7GxQz"
      },
      "id": "NAgxt4G7GxQz",
      "execution_count": null,
      "outputs": []
    },
    {
      "cell_type": "code",
      "source": [
        "my_list = [1,3,4,5,5,6,3,4,5,1,2,3]\n",
        "set1 = set(my_list)\n",
        "my_list = list(set1)\n",
        "print(my_list)\n",
        "\n",
        "set1 = {1,2,3,4,5}; set2={4,5,6,7,8}\n",
        "#Union\n",
        "x = set1.union(set2)\n",
        "print(x)\n",
        "print(set1 | set2) #union\n",
        "#Intersection\n",
        "y = set1.intersection(set2)\n",
        "print(y)\n",
        "print(set1 & set2)\n",
        "#Difference\n",
        "z = set1.difference(set2)\n",
        "print(z)\n",
        "print(set1 - set2)\n",
        "#Symmetric difference\n",
        "w = set1.symmetric_difference(set2)\n",
        "print(w)\n",
        "print(set1 ^ set2)\n",
        "set1.add(10)\n",
        "print(set1)\n",
        "set1.remove(2)\n",
        "print(set1)\n"
      ],
      "metadata": {
        "colab": {
          "base_uri": "https://localhost:8080/"
        },
        "id": "1FjBIqA0ppY7",
        "outputId": "99cec1ed-9c1a-4751-a8a4-491fb336b257"
      },
      "id": "1FjBIqA0ppY7",
      "execution_count": null,
      "outputs": [
        {
          "output_type": "stream",
          "name": "stdout",
          "text": [
            "[1, 2, 3, 4, 5, 6]\n",
            "{1, 2, 3, 4, 5, 6, 7, 8}\n",
            "{1, 2, 3, 4, 5, 6, 7, 8}\n",
            "{4, 5}\n",
            "{4, 5}\n",
            "{1, 2, 3}\n",
            "{1, 2, 3}\n",
            "{1, 2, 3, 6, 7, 8}\n",
            "{1, 2, 3, 6, 7, 8}\n",
            "{1, 2, 3, 4, 5, 10}\n",
            "{1, 3, 4, 5, 10}\n"
          ]
        }
      ]
    },
    {
      "cell_type": "code",
      "source": [
        "x=set()\n",
        "print(len(x))"
      ],
      "metadata": {
        "colab": {
          "base_uri": "https://localhost:8080/"
        },
        "id": "90lh12dGp5NR",
        "outputId": "a7cd515c-d764-41d9-dceb-56c97f51d71a"
      },
      "id": "90lh12dGp5NR",
      "execution_count": null,
      "outputs": [
        {
          "output_type": "stream",
          "name": "stdout",
          "text": [
            "0\n"
          ]
        }
      ]
    },
    {
      "cell_type": "code",
      "source": [
        "2 in {1,2,3}"
      ],
      "metadata": {
        "colab": {
          "base_uri": "https://localhost:8080/"
        },
        "id": "dKadKkycr_FI",
        "outputId": "81de50ed-3746-421f-c157-e3a2e44ca153"
      },
      "id": "dKadKkycr_FI",
      "execution_count": null,
      "outputs": [
        {
          "output_type": "execute_result",
          "data": {
            "text/plain": [
              "True"
            ]
          },
          "metadata": {},
          "execution_count": 32
        }
      ]
    },
    {
      "cell_type": "code",
      "source": [
        "# an example of colon of a tuple\n",
        "\n",
        "my_tuple = (1, 2, 3, 4, 5)\n",
        "print(my_tuple[2:4])  # Output: (2, 3, 4, 5)\n"
      ],
      "metadata": {
        "id": "3uvfBrJisf-u",
        "colab": {
          "base_uri": "https://localhost:8080/"
        },
        "outputId": "26870f3b-83d9-4856-f041-db71be139fc6"
      },
      "id": "3uvfBrJisf-u",
      "execution_count": null,
      "outputs": [
        {
          "output_type": "stream",
          "name": "stdout",
          "text": [
            "(3, 4)\n"
          ]
        }
      ]
    },
    {
      "cell_type": "code",
      "source": [
        "#tuple count\n",
        "\n",
        "my_tuple = (1, 2, 3, 2, 4, 2, 5)\n",
        "count = my_tuple.count(2)  # Counts the occurrences of 2 in the tuple\n",
        "print(count)  # Output: 3\n"
      ],
      "metadata": {
        "id": "gn0uM1IbQpN-",
        "colab": {
          "base_uri": "https://localhost:8080/"
        },
        "outputId": "c1c14c86-e6c2-4b8f-acbb-13fa3517bcca"
      },
      "id": "gn0uM1IbQpN-",
      "execution_count": null,
      "outputs": [
        {
          "output_type": "stream",
          "name": "stdout",
          "text": [
            "3\n"
          ]
        }
      ]
    },
    {
      "cell_type": "code",
      "source": [
        "#find whether an element exists in a tuple\n",
        "\n",
        "my_tuple = (1, 3, 12, 333, 43, 57, 3, 4, 9, 499, 3)\n",
        "element_to_find = 10\n",
        "\n",
        "if element_to_find in my_tuple:\n",
        "  print(f\"{element_to_find} exists in the tuple\")\n",
        "else:\n",
        "  print(f\"{element_to_find} does not exist in the tuple\")\n"
      ],
      "metadata": {
        "colab": {
          "base_uri": "https://localhost:8080/"
        },
        "id": "uvekFR6TRC9f",
        "outputId": "ae7634cc-aa61-4b5a-8115-6c10c265a873"
      },
      "id": "uvekFR6TRC9f",
      "execution_count": null,
      "outputs": [
        {
          "output_type": "stream",
          "name": "stdout",
          "text": [
            "10 does not exist in the tuple\n"
          ]
        }
      ]
    },
    {
      "cell_type": "code",
      "source": [
        "# A simple dictionary to store student names and their scores\n",
        "student_scores = {\n",
        "  \"Alice\": 85,\n",
        "  \"Bob\": 92,\n",
        "  \"Charlie\": 78,\n",
        "  \"David\": 95\n",
        "}\n",
        "print(student_scores)\n",
        "\n",
        "# A dictionary to represent a product catalog with product names as keys and prices as values\n",
        "product_catalog = {\n",
        "  \"Laptop\": 1200,\n",
        "  \"Keyboard\": 75,\n",
        "  \"Mouse\": 30,\n",
        "  \"Monitor\": 350,\n",
        "  \"Webcam\": 50\n",
        "}\n",
        "print(product_catalog)\n",
        "\n",
        "# A nested dictionary to store information about books, including\n",
        "# their authors, genres, and publication years\n",
        "book_database = {\n",
        "  \"The Lord of the Rings\": {\n",
        "    \"author\": \"J.R.R. Tolkien\",\n",
        "    \"genre\": \"Fantasy\",\n",
        "    \"year\": 1954\n",
        "  },\n",
        "  \"To Kill a Mockingbird\": {\n",
        "    \"author\": \"Harper Lee\",\n",
        "    \"genre\": \"Southern Gothic\",\n",
        "    \"year\": 1960\n",
        "  },\n",
        "  \"Pride and Prejudice\": {\n",
        "    \"author\": \"Jane Austen\",\n",
        "    \"genre\": \"Romance\",\n",
        "    \"year\": 1813\n",
        "  }\n",
        "}\n",
        "print(book_database)\n"
      ],
      "metadata": {
        "colab": {
          "base_uri": "https://localhost:8080/"
        },
        "id": "uS-SajXZRRYC",
        "outputId": "92ac7254-3ec2-4ad8-da7b-d423f338462a"
      },
      "id": "uS-SajXZRRYC",
      "execution_count": null,
      "outputs": [
        {
          "output_type": "stream",
          "name": "stdout",
          "text": [
            "{'Alice': 85, 'Bob': 92, 'Charlie': 78, 'David': 95}\n",
            "{'Laptop': 1200, 'Keyboard': 75, 'Mouse': 30, 'Monitor': 350, 'Webcam': 50}\n",
            "{'The Lord of the Rings': {'author': 'J.R.R. Tolkien', 'genre': 'Fantasy', 'year': 1954}, 'To Kill a Mockingbird': {'author': 'Harper Lee', 'genre': 'Southern Gothic', 'year': 1960}, 'Pride and Prejudice': {'author': 'Jane Austen', 'genre': 'Romance', 'year': 1813}}\n"
          ]
        }
      ]
    },
    {
      "cell_type": "code",
      "source": [
        "# Accessing values in a dictionary\n",
        "student_scores = {\n",
        "  \"Alice\": 85,\n",
        "  \"Bob\": 92,\n",
        "  \"Charlie\": 78,\n",
        "  \"David\": 95\n",
        "}\n",
        "\n",
        "print(student_scores[\"Bob\"])  # Output: 92\n",
        "print(student_scores.get(\"Charlie\"))  # Output: 78\n",
        "\n",
        "# Adding a new key-value pair\n",
        "student_scores[\"Eve\"] = 88\n",
        "print(student_scores)  # Output: {'Alice': 85, 'Bob': 92, 'Charlie': 78, 'David': 95, 'Eve': 88}\n",
        "\n",
        "# Modifying an existing value\n",
        "student_scores[\"Charlie\"] = 82\n",
        "print(student_scores)  # Output: {'Alice': 85, 'Bob': 92, 'Charlie': 82, 'David': 95, 'Eve': 88}\n",
        "\n",
        "# Removing a key-value pair\n",
        "del student_scores[\"David\"]\n",
        "print(student_scores)  # Output: {'Alice': 85, 'Bob': 92, 'Charlie': 82, 'Eve': 88}\n",
        "\n",
        "# Iterating over a dictionary\n",
        "for key in student_scores:\n",
        "  print(key, \":\", student_scores[key])\n",
        "\n",
        "# Checking if a key exists\n",
        "if \"Alice\" in student_scores:\n",
        "  print(\"Alice's score is present\")\n",
        "\n",
        "# Getting all keys and values\n",
        "keys = student_scores.keys()\n",
        "values = student_scores.values()\n",
        "print(\"Keys:\", keys)\n",
        "print(\"Values:\", values)\n",
        "\n",
        "# Clearing a dictionary\n",
        "student_scores.clear()\n",
        "print(student_scores)  # Output: {}\n"
      ],
      "metadata": {
        "id": "dEea6z4oR6pt",
        "colab": {
          "base_uri": "https://localhost:8080/"
        },
        "outputId": "051063f8-b491-4bc8-bb8d-ef5c50dba69b"
      },
      "id": "dEea6z4oR6pt",
      "execution_count": null,
      "outputs": [
        {
          "output_type": "stream",
          "name": "stdout",
          "text": [
            "92\n",
            "78\n",
            "{'Alice': 85, 'Bob': 92, 'Charlie': 78, 'David': 95, 'Eve': 88}\n",
            "{'Alice': 85, 'Bob': 92, 'Charlie': 82, 'David': 95, 'Eve': 88}\n",
            "{'Alice': 85, 'Bob': 92, 'Charlie': 82, 'Eve': 88}\n",
            "Alice : 85\n",
            "Bob : 92\n",
            "Charlie : 82\n",
            "Eve : 88\n",
            "Alice's score is present\n",
            "Keys: dict_keys(['Alice', 'Bob', 'Charlie', 'Eve'])\n",
            "Values: dict_values([85, 92, 82, 88])\n",
            "{}\n"
          ]
        }
      ]
    },
    {
      "cell_type": "code",
      "source": [
        "count = 0\n",
        "for i in range(100):\n",
        "    for j in range(50):\n",
        "      if i * j < 8:\n",
        "        print(i, j)\n",
        "        count += 1\n",
        "      else:\n",
        "        break\n",
        "print(count)"
      ],
      "metadata": {
        "colab": {
          "base_uri": "https://localhost:8080/"
        },
        "id": "CW23vKCtdmgH",
        "outputId": "6bfd6835-4387-429a-dfe4-40e7c1eb9fd0"
      },
      "id": "CW23vKCtdmgH",
      "execution_count": null,
      "outputs": [
        {
          "output_type": "stream",
          "name": "stdout",
          "text": [
            "0 0\n",
            "0 1\n",
            "0 2\n",
            "0 3\n",
            "0 4\n",
            "0 5\n",
            "0 6\n",
            "0 7\n",
            "0 8\n",
            "0 9\n",
            "0 10\n",
            "0 11\n",
            "0 12\n",
            "0 13\n",
            "0 14\n",
            "0 15\n",
            "0 16\n",
            "0 17\n",
            "0 18\n",
            "0 19\n",
            "0 20\n",
            "0 21\n",
            "0 22\n",
            "0 23\n",
            "0 24\n",
            "0 25\n",
            "0 26\n",
            "0 27\n",
            "0 28\n",
            "0 29\n",
            "0 30\n",
            "0 31\n",
            "0 32\n",
            "0 33\n",
            "0 34\n",
            "0 35\n",
            "0 36\n",
            "0 37\n",
            "0 38\n",
            "0 39\n",
            "0 40\n",
            "0 41\n",
            "0 42\n",
            "0 43\n",
            "0 44\n",
            "0 45\n",
            "0 46\n",
            "0 47\n",
            "0 48\n",
            "0 49\n",
            "1 0\n",
            "1 1\n",
            "1 2\n",
            "1 3\n",
            "1 4\n",
            "1 5\n",
            "1 6\n",
            "1 7\n",
            "2 0\n",
            "2 1\n",
            "2 2\n",
            "2 3\n",
            "3 0\n",
            "3 1\n",
            "3 2\n",
            "4 0\n",
            "4 1\n",
            "5 0\n",
            "5 1\n",
            "6 0\n",
            "6 1\n",
            "7 0\n",
            "7 1\n",
            "8 0\n",
            "9 0\n",
            "10 0\n",
            "11 0\n",
            "12 0\n",
            "13 0\n",
            "14 0\n",
            "15 0\n",
            "16 0\n",
            "17 0\n",
            "18 0\n",
            "19 0\n",
            "20 0\n",
            "21 0\n",
            "22 0\n",
            "23 0\n",
            "24 0\n",
            "25 0\n",
            "26 0\n",
            "27 0\n",
            "28 0\n",
            "29 0\n",
            "30 0\n",
            "31 0\n",
            "32 0\n",
            "33 0\n",
            "34 0\n",
            "35 0\n",
            "36 0\n",
            "37 0\n",
            "38 0\n",
            "39 0\n",
            "40 0\n",
            "41 0\n",
            "42 0\n",
            "43 0\n",
            "44 0\n",
            "45 0\n",
            "46 0\n",
            "47 0\n",
            "48 0\n",
            "49 0\n",
            "50 0\n",
            "51 0\n",
            "52 0\n",
            "53 0\n",
            "54 0\n",
            "55 0\n",
            "56 0\n",
            "57 0\n",
            "58 0\n",
            "59 0\n",
            "60 0\n",
            "61 0\n",
            "62 0\n",
            "63 0\n",
            "64 0\n",
            "65 0\n",
            "66 0\n",
            "67 0\n",
            "68 0\n",
            "69 0\n",
            "70 0\n",
            "71 0\n",
            "72 0\n",
            "73 0\n",
            "74 0\n",
            "75 0\n",
            "76 0\n",
            "77 0\n",
            "78 0\n",
            "79 0\n",
            "80 0\n",
            "81 0\n",
            "82 0\n",
            "83 0\n",
            "84 0\n",
            "85 0\n",
            "86 0\n",
            "87 0\n",
            "88 0\n",
            "89 0\n",
            "90 0\n",
            "91 0\n",
            "92 0\n",
            "93 0\n",
            "94 0\n",
            "95 0\n",
            "96 0\n",
            "97 0\n",
            "98 0\n",
            "99 0\n",
            "165\n"
          ]
        }
      ]
    },
    {
      "cell_type": "code",
      "source": [
        "# # Looping through a list\n",
        "# fruits = [\"apple\", \"banana\", \"cherry\"]\n",
        "# for fruit in fruits:\n",
        "#   print(fruit)\n",
        "\n",
        "# # Looping through a string\n",
        "# message = \"Hello\"\n",
        "# for letter in message:\n",
        "#   print(letter)\n",
        "\n",
        "# # Looping with a range function\n",
        "# for i in range(5):  # Prints numbers from 0 to 4\n",
        "#   print(i)\n",
        "\n",
        "# # Looping with a while loop\n",
        "# count = 0\n",
        "# while count < 3:\n",
        "#   print(\"Count:\", count)\n",
        "#   count += 1\n",
        "\n",
        "# # Nested loops\n",
        "# for i in range(3):\n",
        "#   for j in range(2):\n",
        "#     print(i, j)\n",
        "\n",
        "# Looping with break statement\n",
        "#for num in range(10):\n",
        " #if num == 5:\n",
        "  # break  # Exits the loop when num is 5\n",
        " #print(num)\n",
        "\n",
        "# # Looping with continue statement\n",
        "# Sequence: 1, 5, 9, 13, 17\n",
        "for num in range(20):\n",
        "  if num%4 !=1:\n",
        "    continue  # Skips the current iteration when num is divisible by 4\n",
        "  print(num)\n",
        "  # fill the code with branching statements and use continue statement to print the given sequence\n"
      ],
      "metadata": {
        "colab": {
          "base_uri": "https://localhost:8080/"
        },
        "id": "V0LjNWSNSR9M",
        "outputId": "1da5289c-419b-467b-f185-3a47ec571f34"
      },
      "id": "V0LjNWSNSR9M",
      "execution_count": null,
      "outputs": [
        {
          "output_type": "stream",
          "name": "stdout",
          "text": [
            "1\n",
            "5\n",
            "9\n",
            "13\n",
            "17\n"
          ]
        }
      ]
    },
    {
      "cell_type": "code",
      "source": [
        "# Example 1: Print even numbers in a list\n",
        "numbers = [1, 2, 3, 4, 5, 6, 7, 8, 9, 10]\n",
        "\n",
        "for number in numbers:\n",
        "  if number % 2 == 0:\n",
        "    print(number)\n",
        "\n",
        "# Example 2: Calculate the sum of positive numbers in a list\n",
        "numbers = [-2, 5, 0, 8, -3, 1]\n",
        "sum_positive = 0\n",
        "\n",
        "for number in numbers:\n",
        "  if number > 0:\n",
        "    sum_positive += number\n",
        "\n",
        "print(\"Sum of positive numbers:\", sum_positive)\n",
        "\n",
        "# Example 3: Find the largest number in a list\n",
        "numbers = [12, 45, 23, 67, 8, 34]\n",
        "largest_number = numbers[0]  # Initialize with the first number\n",
        "\n",
        "for number in numbers:\n",
        "  if number > largest_number:\n",
        "    largest_number = number\n",
        "\n",
        "print(\"Largest number:\", largest_number)\n",
        "\n",
        "# Example 4: Check if a list contains a specific element\n",
        "numbers = [10, 20, 30, 40, 50]\n",
        "target = 30\n",
        "found = False\n",
        "\n",
        "for number in numbers:\n",
        "  if number == target:\n",
        "    found = True\n",
        "    break\n",
        "\n",
        "if found:\n",
        "  print(\"Element found in the list\")\n",
        "else:\n",
        "  print(\"Element not found in the list\")\n"
      ],
      "metadata": {
        "id": "RSYZWh9ySdEC",
        "colab": {
          "base_uri": "https://localhost:8080/"
        },
        "outputId": "52d8b503-57e9-4798-e582-e3c82a348f5e"
      },
      "id": "RSYZWh9ySdEC",
      "execution_count": null,
      "outputs": [
        {
          "output_type": "stream",
          "name": "stdout",
          "text": [
            "2\n",
            "4\n",
            "6\n",
            "8\n",
            "10\n",
            "Sum of positive numbers: 14\n",
            "Largest number: 67\n",
            "Element found in the list\n"
          ]
        }
      ]
    },
    {
      "cell_type": "code",
      "source": [
        "# Function to calculate the area of a rectangle\n",
        "def calculate_rectangle_area(length, width):\n",
        "  \"\"\"Calculates the area of a rectangle.\n",
        "\n",
        "  Args:\n",
        "    length: The length of the rectangle.\n",
        "    width: The width of the rectangle.\n",
        "\n",
        "  Returns:\n",
        "    The area of the rectangle.\n",
        "  \"\"\"\n",
        "  area = length * width\n",
        "  return area\n",
        "\n",
        "# Function to greet a person\n",
        "def greet(name):\n",
        "  \"\"\"Greets a person by name.\n",
        "\n",
        "  Args:\n",
        "    name: The name of the person to greet.\n",
        "  \"\"\"\n",
        "  print(\"Hello,\", name + \"!\")\n",
        "\n",
        "# Function to check if a number is even\n",
        "def is_even(number):\n",
        "  \"\"\"Checks if a number is even.\n",
        "\n",
        "  Args:\n",
        "    number: The number to check.\n",
        "\n",
        "  Returns:\n",
        "    True if the number is even, False otherwise.\n",
        "  \"\"\"\n",
        "  return number % 2 == 0\n",
        "\n",
        "# Example usage\n",
        "area = calculate_rectangle_area(5, 10)\n",
        "print(\"Area of rectangle:\", area)  # Output: Area of rectangle: 50\n",
        "\n",
        "greet(\"Alice\")  # Output: Hello, Alice!\n",
        "\n",
        "if is_even(6):\n",
        "  print(\"Number is even\")\n",
        "else:\n",
        "  print(\"Number is odd\")\n",
        "\n",
        "help(calculate_rectangle_area)"
      ],
      "metadata": {
        "id": "efUp_InJTMIp",
        "colab": {
          "base_uri": "https://localhost:8080/"
        },
        "outputId": "9f29c44a-dc7b-449d-8b34-6a717e19d13f"
      },
      "id": "efUp_InJTMIp",
      "execution_count": null,
      "outputs": [
        {
          "output_type": "stream",
          "name": "stdout",
          "text": [
            "Area of rectangle: 50\n",
            "Hello, Alice!\n",
            "Number is even\n",
            "Help on function calculate_rectangle_area in module __main__:\n",
            "\n",
            "calculate_rectangle_area(length, width)\n",
            "    Calculates the area of a rectangle.\n",
            "    \n",
            "    Args:\n",
            "      length: The length of the rectangle.\n",
            "      width: The width of the rectangle.\n",
            "    \n",
            "    Returns:\n",
            "      The area of the rectangle.\n",
            "\n"
          ]
        }
      ]
    },
    {
      "cell_type": "code",
      "source": [
        "def area_of_triangle(base,height):\n",
        "  \"Calculates the area of a triangle.\"\n",
        "\n",
        "\n",
        "  area = 0.5*base*height\n",
        "  return area\n",
        "\n",
        "area_of_triangle(5,10)\n",
        "help(area_of_triangle)"
      ],
      "metadata": {
        "colab": {
          "base_uri": "https://localhost:8080/"
        },
        "id": "sHzF-cJVWzcG",
        "outputId": "05fa22ba-7ab3-4fd8-f6a4-96a67c053ade"
      },
      "id": "sHzF-cJVWzcG",
      "execution_count": null,
      "outputs": [
        {
          "output_type": "stream",
          "name": "stdout",
          "text": [
            "Help on function area_of_triangle in module __main__:\n",
            "\n",
            "area_of_triangle(base, height)\n",
            "    Calculates the area of a triangle.\n",
            "\n"
          ]
        }
      ]
    },
    {
      "cell_type": "code",
      "source": [
        "# Function to calculate the factorial of a number\n",
        "def factorial(n):\n",
        "  \"\"\"Calculates the factorial of a non-negative integer.\n",
        "\n",
        "  Args:\n",
        "    n: The non-negative integer.\n",
        "\n",
        "  Returns:\n",
        "    The factorial of n.\n",
        "  \"\"\"\n",
        "  if n == 0:\n",
        "    return 1\n",
        "  else:\n",
        "    return n * factorial(n - 1)\n",
        "\n",
        "# # Function to find the maximum of two numbers\n",
        "# def find_max(a, b):\n",
        "#   \"\"\"Finds the maximum of two numbers.\n",
        "\n",
        "#   Args:\n",
        "#     a: The first number.\n",
        "#     b: The second number.\n",
        "\n",
        "#   Returns:\n",
        "#     The maximum of a and b.\n",
        "#   \"\"\"\n",
        "#   if a > b:\n",
        "#     return a\n",
        "#   else:\n",
        "#     return b\n",
        "\n",
        "# # Function to reverse a string\n",
        "# def reverse_string(s):\n",
        "#   \"\"\"Reverses a string.\n",
        "\n",
        "#   Args:\n",
        "#     s: The string to reverse.\n",
        "\n",
        "#   Returns:\n",
        "#     The reversed string.\n",
        "#   \"\"\"\n",
        "#   return s[::-1]\n",
        "\n",
        "# # Example usage\n",
        "# print(factorial(5))  # Output: 120\n",
        "# print(find_max(10, 5))  # Output: 10\n",
        "# print(reverse_string(\"hello\"))  # Output: olleh\n",
        "\n",
        "factorial(958)\n",
        "n = 1000\n",
        "ans = 1\n",
        "for i in range(1,n+1):\n",
        "  ans *= i\n",
        "print(ans)\n"
      ],
      "metadata": {
        "id": "uaAM6J2DTSLX",
        "colab": {
          "base_uri": "https://localhost:8080/"
        },
        "outputId": "6e232b40-e0c3-4154-8e52-588d3e465d8b"
      },
      "id": "uaAM6J2DTSLX",
      "execution_count": null,
      "outputs": [
        {
          "output_type": "stream",
          "name": "stdout",
          "text": [
            "402387260077093773543702433923003985719374864210714632543799910429938512398629020592044208486969404800479988610197196058631666872994808558901323829669944590997424504087073759918823627727188732519779505950995276120874975462497043601418278094646496291056393887437886487337119181045825783647849977012476632889835955735432513185323958463075557409114262417474349347553428646576611667797396668820291207379143853719588249808126867838374559731746136085379534524221586593201928090878297308431392844403281231558611036976801357304216168747609675871348312025478589320767169132448426236131412508780208000261683151027341827977704784635868170164365024153691398281264810213092761244896359928705114964975419909342221566832572080821333186116811553615836546984046708975602900950537616475847728421889679646244945160765353408198901385442487984959953319101723355556602139450399736280750137837615307127761926849034352625200015888535147331611702103968175921510907788019393178114194545257223865541461062892187960223838971476088506276862967146674697562911234082439208160153780889893964518263243671616762179168909779911903754031274622289988005195444414282012187361745992642956581746628302955570299024324153181617210465832036786906117260158783520751516284225540265170483304226143974286933061690897968482590125458327168226458066526769958652682272807075781391858178889652208164348344825993266043367660176999612831860788386150279465955131156552036093988180612138558600301435694527224206344631797460594682573103790084024432438465657245014402821885252470935190620929023136493273497565513958720559654228749774011413346962715422845862377387538230483865688976461927383814900140767310446640259899490222221765904339901886018566526485061799702356193897017860040811889729918311021171229845901641921068884387121855646124960798722908519296819372388642614839657382291123125024186649353143970137428531926649875337218940694281434118520158014123344828015051399694290153483077644569099073152433278288269864602789864321139083506217095002597389863554277196742822248757586765752344220207573630569498825087968928162753848863396909959826280956121450994871701244516461260379029309120889086942028510640182154399457156805941872748998094254742173582401063677404595741785160829230135358081840096996372524230560855903700624271243416909004153690105933983835777939410970027753472000000000000000000000000000000000000000000000000000000000000000000000000000000000000000000000000000000000000000000000000000000000000000000000000000000000000000000000000000000000000000000000000000000000000000000000000000000000000000000000000000000000\n"
          ]
        }
      ]
    },
    {
      "cell_type": "code",
      "source": [],
      "metadata": {
        "id": "JZLeICQEMxju"
      },
      "id": "JZLeICQEMxju",
      "execution_count": null,
      "outputs": []
    },
    {
      "cell_type": "code",
      "source": [
        "def binary_search(arr, target):\n",
        "  \"\"\"Performs a binary search on a sorted list.\n",
        "\n",
        "  Args:\n",
        "    arr: The sorted list to search.\n",
        "    target: The value to search for.\n",
        "\n",
        "  Returns:\n",
        "    The index of the target if found, otherwise -1.\n",
        "  \"\"\"\n",
        "  low = 0\n",
        "  high = len(arr) - 1\n",
        "\n",
        "  while low <= high:\n",
        "    mid = (low + high) // 2\n",
        "    if arr[mid] == target:\n",
        "      return mid\n",
        "    elif arr[mid] < target:\n",
        "      low = mid + 1\n",
        "    else:\n",
        "      high = mid - 1\n",
        "\n",
        "  return -1  # Target not found\n"
      ],
      "metadata": {
        "id": "HDW53HHZTupF"
      },
      "id": "HDW53HHZTupF",
      "execution_count": null,
      "outputs": []
    },
    {
      "cell_type": "code",
      "source": [
        "import random\n",
        "\n",
        "numbers = random.sample(range(100), 15)  # Adjust range as needed\n",
        "print(numbers)\n",
        "numbers.sort()\n",
        "print(numbers)\n",
        "\n"
      ],
      "metadata": {
        "colab": {
          "base_uri": "https://localhost:8080/"
        },
        "id": "OW2_ZGzKT_X7",
        "outputId": "1e597b7e-70a5-45d6-9623-c137151b18af"
      },
      "id": "OW2_ZGzKT_X7",
      "execution_count": null,
      "outputs": [
        {
          "output_type": "stream",
          "name": "stdout",
          "text": [
            "[57, 82, 76, 87, 97, 8, 26, 7, 71, 49, 34, 10, 6, 73, 65]\n",
            "[6, 7, 8, 10, 26, 34, 49, 57, 65, 71, 73, 76, 82, 87, 97]\n"
          ]
        }
      ]
    },
    {
      "cell_type": "code",
      "source": [
        "binary_search(numbers,87)"
      ],
      "metadata": {
        "colab": {
          "base_uri": "https://localhost:8080/"
        },
        "id": "jEpFpJ6CUI-U",
        "outputId": "826b282e-7b75-4a2b-a551-f5a01a83a9ef"
      },
      "id": "jEpFpJ6CUI-U",
      "execution_count": null,
      "outputs": [
        {
          "output_type": "execute_result",
          "data": {
            "text/plain": [
              "13"
            ]
          },
          "metadata": {},
          "execution_count": 8
        }
      ]
    },
    {
      "cell_type": "code",
      "source": [
        "# Function to calculate the Fibonacci sequence up to n terms\n",
        "def fibonacci(n):\n",
        "  \"\"\"Calculates the Fibonacci sequence up to n terms.\n",
        "\n",
        "  Args:\n",
        "    n: The number of terms.\n",
        "\n",
        "  Returns:\n",
        "    A list containing the Fibonacci sequence up to n terms.\n",
        "  \"\"\"\n",
        "  result = []\n",
        "  a, b = 0, 1\n",
        "  for _ in range(n):\n",
        "    result.append(a)\n",
        "    a, b = b, a + b\n",
        "  return result\n",
        "\n",
        "# Function to check if a number is prime\n",
        "def is_prime(n):\n",
        "  \"\"\"Checks if a number is prime.\n",
        "\n",
        "  Args:\n",
        "    n: The number to check.\n",
        "\n",
        "  Returns:\n",
        "    True if the number is prime, False otherwise.\n",
        "  \"\"\"\n",
        "  if n <= 1:\n",
        "    return False\n",
        "  for i in range(2, int(n ** 0.5) + 1):\n",
        "    if n % i == 0:\n",
        "      return False\n",
        "  return True\n",
        "\n",
        "# Function to calculate the average of a list of numbers\n",
        "def calculate_average(numbers):\n",
        "  \"\"\"Calculates the average of a list of numbers.\n",
        "\n",
        "  Args:\n",
        "    numbers: A list of numbers.\n",
        "\n",
        "  Returns:\n",
        "    The average of the numbers.\n",
        "  \"\"\"\n",
        "  if not numbers:\n",
        "    return 0\n",
        "  return sum(numbers) / len(numbers)\n",
        "\n",
        "# Example usage\n",
        "print(fibonacci(10))  # Output: [0, 1, 1, 2, 3, 5, 8, 13, 21, 34]\n",
        "print(is_prime(17))  # Output: True\n",
        "print(calculate_average([1, 2, 3, 4, 5]))  # Output: 3.0"
      ],
      "metadata": {
        "id": "vYXwrNFhr3r3"
      },
      "id": "vYXwrNFhr3r3",
      "execution_count": null,
      "outputs": []
    },
    {
      "cell_type": "code",
      "source": [
        "# Example 1: Squaring numbers in a list\n",
        "numbers = [1, 2, 3, 4, 5]\n",
        "squared_numbers = [x**2 for x in numbers]\n",
        "print(squared_numbers)  # Output: [1, 4, 9, 16, 25]\n",
        "\n",
        "# Example 2: Filtering even numbers from a list\n",
        "numbers = [1, 2, 3, 4, 5, 6]\n",
        "even_numbers = [x for x in numbers if x % 2 == 0]\n",
        "print(even_numbers)  # Output: [2, 4, 6]\n",
        "\n",
        "# Example 3: Creating a list of uppercase letters from a string\n",
        "string = \"hello world\"\n",
        "uppercase_letters = [char.upper() for char in string if char.isalpha()]\n",
        "print(uppercase_letters)  # Output: ['H', 'E', 'L', 'L', 'O', 'W', 'O', 'R', 'L', 'D']\n",
        "\n",
        "# Example 4: Creating a list of tuples with (number, square) pairs\n",
        "numbers = [1, 2, 3, 4, 5]\n",
        "number_squares = [(x, x**2) for x in numbers]\n",
        "print(number_squares)  # Output: [(1, 1), (2, 4), (3, 9), (4, 16), (5, 25)]\n",
        "\n",
        "# Example 5: Flattening a nested list\n",
        "nested_list = [[1, 2], [3, 4, 5], [6]]\n",
        "flattened_list = [item for sublist in nested_list for item in sublist]\n",
        "print(flattened_list)  # Output: [1, 2, 3, 4, 5, 6]\n"
      ],
      "metadata": {
        "id": "yWgSfJhEsRJz"
      },
      "id": "yWgSfJhEsRJz",
      "execution_count": null,
      "outputs": []
    },
    {
      "cell_type": "code",
      "source": [
        "# isalpha() - Checks if all characters in a string are alphabetic\n",
        "text1 = \"Hello\"\n",
        "text2 = \"Hello123\"\n",
        "\n",
        "print(text1.isalpha())  # Output: True\n",
        "print(text2.isalpha())  # Output: False\n",
        "\n",
        "# isnan() - Checks if a value is NaN (Not a Number) (works on numeric types, not strings)\n",
        "import math\n",
        "\n",
        "value1 = float('nan')\n",
        "value2 = 10\n",
        "\n",
        "print(math.isnan(value1))  # Output: True\n",
        "print(math.isnan(value2))  # Output: False\n",
        "\n",
        "# isdigit() - Checks if all characters in a string are digits\n",
        "text1 = \"12345\"\n",
        "text2 = \"123abc\"\n",
        "\n",
        "print(text1.isdigit())  # Output: True\n",
        "print(text2.isdigit())  # Output: False\n",
        "\n",
        "# islower() - Checks if all alphabetic characters in a string are lowercase\n",
        "text1 = \"hello\"\n",
        "text2 = \"Hello\"\n",
        "\n",
        "print(text1.islower())  # Output: True\n",
        "print(text2.islower())  # Output: False\n",
        "\n",
        "# isupper() - Checks if all alphabetic characters in a string are uppercase\n",
        "text1 = \"HELLO\"\n",
        "text2 = \"Hello\"\n",
        "\n",
        "print(text1.isupper())  # Output: True\n",
        "print(text2.isupper())  # Output: False\n",
        "\n",
        "# isspace() - Checks if all characters in a string are whitespace characters\n",
        "text1 = \"   \"\n",
        "text2 = \"Hello \"\n",
        "\n",
        "print(text1.isspace())  # Output: True\n",
        "print(text2.isspace())  # Output: False"
      ],
      "metadata": {
        "colab": {
          "base_uri": "https://localhost:8080/"
        },
        "id": "sL9GdOGGsVcA",
        "outputId": "0ec35a3e-d584-4008-bf22-3e83eaba7dcd"
      },
      "id": "sL9GdOGGsVcA",
      "execution_count": null,
      "outputs": [
        {
          "output_type": "stream",
          "name": "stdout",
          "text": [
            "True\n",
            "False\n",
            "True\n",
            "False\n",
            "True\n",
            "False\n",
            "True\n",
            "False\n",
            "True\n",
            "False\n",
            "True\n",
            "False\n"
          ]
        }
      ]
    },
    {
      "cell_type": "code",
      "source": [
        "# Example 1: Squaring a number\n",
        "square = lambda x: x ** 2\n",
        "print(square(5))  # Output: 25\n",
        "\n",
        "# Example 2: Adding two numbers\n",
        "add = lambda x, y: x + y\n",
        "print(add(3, 7))  # Output: 10\n",
        "\n",
        "# Example 3: Checking if a number is even\n",
        "is_even = lambda num: num % 2 == 0\n",
        "print(is_even(8))  # Output: True\n",
        "\n",
        "# Example 4: Sorting a list of tuples by the second element\n",
        "points = [(1, 5), (3, 2), (2, 8)]\n",
        "sorted_points = sorted(points, key=lambda x: x[1])\n",
        "print(sorted_points)  # Output: [(3, 2), (1, 5), (2, 8)]\n",
        "\n",
        "# Example 5: Filtering a list to get even numbers\n",
        "numbers = [1, 2, 3, 4, 5, 6]\n",
        "even_numbers = list(filter(lambda x: x % 2 == 0, numbers))\n",
        "print(even_numbers)  # Output: [2, 4, 6]\n",
        "\n",
        "\n",
        "\n",
        "\n",
        "#Example 6: Fahenheit to Celsiusr\n",
        "FtoC = lambda fahr:(fahr-32)*5/9\n",
        "a=FtoC(96.8)\n",
        "print(a)\n",
        "\n",
        "#Example 7: area of triangle\n",
        "tri_area = lambda base,height: 0.5*base*height\n",
        "b=tri_area(5,10)\n",
        "print(b)"
      ],
      "metadata": {
        "colab": {
          "base_uri": "https://localhost:8080/"
        },
        "id": "tt0pwEgLsptv",
        "outputId": "b2cbdee0-5d41-47fd-f451-1677d4b0a8fd"
      },
      "id": "tt0pwEgLsptv",
      "execution_count": null,
      "outputs": [
        {
          "output_type": "stream",
          "name": "stdout",
          "text": [
            "36.0\n",
            "25.0\n"
          ]
        }
      ]
    },
    {
      "cell_type": "code",
      "source": [
        "# tricky problems with lists, tuples, dictionary\n",
        "\n",
        "# 1. Modifying a list while iterating over it\n",
        "# Problem: Removing elements while iterating can lead to unexpected results.\n",
        "\n",
        "numbers = [1, 2, 3, 4, 5]\n",
        "for num in numbers:\n",
        "  if num % 2 == 0:\n",
        "    numbers.remove(num)  # Incorrect way to remove elements\n",
        "\n",
        "print(numbers)  # Output: [1, 3, 5] (Incorrect, should be [1, 3])\n",
        "\n",
        "# Solution: Create a new list or use list comprehension.\n",
        "numbers = [1, 2, 3, 4, 5]\n",
        "new_numbers = [num for num in numbers if num % 2 != 0]\n",
        "print(new_numbers)  # Output: [1, 3, 5] (Correct)\n",
        "\n",
        "# 2. Modifying a tuple (immutability)\n",
        "# Problem: Tuples are immutable, so you can't change their elements directly.\n",
        "\n",
        "my_tuple = (1, 2, 3)\n",
        "# my_tuple[0] = 5  # This will raise a TypeError\n",
        "\n",
        "# Solution: Create a new tuple with the modified element.\n",
        "new_tuple = (5,) + my_tuple[1:]\n",
        "print(new_tuple)  # Output: (5, 2, 3)\n",
        "\n",
        "# 3. Duplicate keys in dictionaries\n",
        "# Problem: Dictionaries cannot have duplicate keys. If you try to assign a value to an existing key, it will overwrite the previous value.\n",
        "\n",
        "my_dict = {\"a\": 1, \"b\": 2, \"a\": 3}\n",
        "print(my_dict)  # Output: {'a': 3, 'b': 2} (The first value for 'a' is overwritten)\n",
        "\n",
        "# Solution: If you need to store multiple values for a key, use a list or another dictionary as the value.\n",
        "my_dict = {\"a\": [1, 3], \"b\": 2}\n",
        "print(my_dict)  # Output: {'a': [1, 3], 'b': 2}\n",
        "\n",
        "# 4. Unhashable types as dictionary keys\n",
        "# Problem: Dictionary keys must be hashable (immutable). Using mutable types like lists as keys will raise a TypeError.\n",
        "\n",
        "# my_dict = {[1, 2]: 3}  # This will raise a TypeError\n",
        "\n",
        "# Solution: Use tuples instead of lists for keys if you need a collection as a key.\n",
        "my_dict = {(1, 2): 3}\n",
        "print(my_dict)  # Output: {(1, 2): 3}\n",
        "\n",
        "# 5. Unexpected behavior with default values in dictionaries\n",
        "# Problem: Using mutable objects as default values in the `get()` method can lead to unexpected behavior.\n",
        "\n",
        "my_dict = {}\n",
        "my_dict.setdefault(\"a\", []).append(1)\n",
        "my_dict.setdefault(\"a\", []).append(2)\n",
        "print(my_dict)  # Output: {'a': [1, 2]} (The same list is used as the default value)\n",
        "\n",
        "# Solution: Use a lambda function to create a new default value each time.\n",
        "my_dict = {}\n",
        "my_dict.setdefault(\"a\", lambda: []).append(1)\n",
        "my_dict.setdefault(\"a\", lambda: []).append(2)\n",
        "print(my_dict)  # Output: {'a': [1], 'a': [2]} (Separate lists are created)\n"
      ],
      "metadata": {
        "id": "hOgSYcNqt1Ve"
      },
      "id": "hOgSYcNqt1Ve",
      "execution_count": null,
      "outputs": []
    }
  ],
  "metadata": {
    "kernelspec": {
      "display_name": "Python 3 (ipykernel)",
      "language": "python",
      "name": "python3"
    },
    "language_info": {
      "codemirror_mode": {
        "name": "ipython",
        "version": 3
      },
      "file_extension": ".py",
      "mimetype": "text/x-python",
      "name": "python",
      "nbconvert_exporter": "python",
      "pygments_lexer": "ipython3",
      "version": "3.10.14"
    },
    "colab": {
      "provenance": []
    }
  },
  "nbformat": 4,
  "nbformat_minor": 5
}