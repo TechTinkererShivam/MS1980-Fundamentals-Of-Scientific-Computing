{
 "cells": [
  {
   "cell_type": "code",
   "execution_count": null,
   "metadata": {},
   "outputs": [],
   "source": [
    "# Q1 to Q6 -> already solved"
   ]
  },
  {
   "cell_type": "code",
   "execution_count": 2,
   "metadata": {},
   "outputs": [
    {
     "name": "stdout",
     "output_type": "stream",
     "text": [
      "('One', 1) <class 'tuple'>\n"
     ]
    }
   ],
   "source": [
    "# Q7 Solution\n",
    "tuple_a = ('One', 1)\n",
    "print(tuple_a, type(tuple_a))"
   ]
  },
  {
   "cell_type": "code",
   "execution_count": 7,
   "metadata": {},
   "outputs": [
    {
     "name": "stdout",
     "output_type": "stream",
     "text": [
      "{1, 2, 3} {1, 2, 3}\n",
      "{2, 3} {2, 3}\n",
      "{1} set()\n"
     ]
    }
   ],
   "source": [
    "# Q8 Solution\n",
    "set_a = {2,3,2}\n",
    "set_b = {1,2,3}\n",
    "print(set_a.union(set_b), set_a | set_b) # union\n",
    "print(set_a.intersection(set_b), set_a & set_b) # intersection\n",
    "print(set_b.difference(set_a), set_a - set_b) # difference"
   ]
  },
  {
   "cell_type": "code",
   "execution_count": 21,
   "metadata": {},
   "outputs": [
    {
     "name": "stdout",
     "output_type": "stream",
     "text": [
      "(('a', 23), ('b', 37), ('c', 11), ('d', 29))\n",
      "(('c', 11), ('a', 23), ('d', 29), ('b', 37))\n"
     ]
    }
   ],
   "source": [
    "# Q9 Solution\n",
    "tuple_1 = (('a', 23),('b',37),('c',11), ('d',29))\n",
    "print(tuple_1)\n",
    "\n",
    "def custom_sort(tuple_1): # sort by the 2nd element of each tuple\n",
    "    return tuple_1[1]\n",
    "\n",
    "# code to sort the tuple of tuples by the second item\n",
    "sorted_tuple_1 = tuple(sorted(tuple_1, key=custom_sort))\n",
    "print(sorted_tuple_1)"
   ]
  },
  {
   "cell_type": "code",
   "execution_count": 26,
   "metadata": {},
   "outputs": [
    {
     "name": "stdout",
     "output_type": "stream",
     "text": [
      "('Tutor', 'J', 23, 56.67, [23, 12], True)\n",
      "('Tutor', 'J', 23, 56.67, [23, 12, 50], True)\n",
      "('Tutor', 'J', 23, 56.67, [23, 12], True)\n"
     ]
    }
   ],
   "source": [
    "# 10 Solution\n",
    "from copy import deepcopy\n",
    "#create a tuple\n",
    "t = (\"Tutor\", 'J', 23 , 56.67 , [23,12] , True)\n",
    "print(t)\n",
    "#make a copy of a tuple using deepcopy() function\n",
    "tc = deepcopy(t)\n",
    "tc[4].append(50)\n",
    "print(tc)\n",
    "print(t)\n",
    "# Why was deepcopy() used?\n",
    "# Ans: deepcopy() is used to ensure that changes made to tc do not affect c."
   ]
  },
  {
   "cell_type": "code",
   "execution_count": null,
   "metadata": {},
   "outputs": [],
   "source": []
  }
 ],
 "metadata": {
  "kernelspec": {
   "display_name": "Python 3",
   "language": "python",
   "name": "python3"
  },
  "language_info": {
   "codemirror_mode": {
    "name": "ipython",
    "version": 3
   },
   "file_extension": ".py",
   "mimetype": "text/x-python",
   "name": "python",
   "nbconvert_exporter": "python",
   "pygments_lexer": "ipython3",
   "version": "3.12.4"
  }
 },
 "nbformat": 4,
 "nbformat_minor": 2
}
