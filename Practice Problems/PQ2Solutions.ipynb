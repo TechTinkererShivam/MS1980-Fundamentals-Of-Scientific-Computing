{
 "cells": [
  {
   "cell_type": "code",
   "execution_count": 1,
   "metadata": {},
   "outputs": [
    {
     "name": "stdout",
     "output_type": "stream",
     "text": [
      "8\n"
     ]
    }
   ],
   "source": [
    "# Q1 Solution\n",
    "'''\n",
    "    10^2 != 100 since ^ is a bitwise XOR operator\n",
    "    10 -> 1010\n",
    "    2 -> 10\n",
    "    -----------\n",
    "    8 -> 1000\n",
    "'''\n",
    "print(10^2)\n"
   ]
  },
  {
   "cell_type": "code",
   "execution_count": null,
   "metadata": {},
   "outputs": [],
   "source": [
    "# Q2 Solution\n",
    "'''  XOR \n",
    "    True ^ True -> False\n",
    "    True ^ False -> True\n",
    "    False ^ True -> True\n",
    "    False ^ False -> False\n",
    "'''\n",
    "#  two ways of constructing xor using existing operators\n"
   ]
  },
  {
   "cell_type": "code",
   "execution_count": 9,
   "metadata": {},
   "outputs": [
    {
     "name": "stdout",
     "output_type": "stream",
     "text": [
      "1\n",
      "1\n",
      "-1\n"
     ]
    }
   ],
   "source": [
    "# Q3 Solution\n",
    "from math import copysign\n",
    "\n",
    "def sign(a):\n",
    "    if(a<0):\n",
    "        return copysign(1,a)\n",
    "    else:\n",
    "        return copysign(1,a)\n",
    "\n",
    "print(int(sign(10)))\n",
    "print(int(sign(0))) \n",
    "print(int(sign(-10)))   \n",
    "    "
   ]
  },
  {
   "cell_type": "code",
   "execution_count": 10,
   "metadata": {},
   "outputs": [
    {
     "name": "stdout",
     "output_type": "stream",
     "text": [
      "False\n",
      "False\n"
     ]
    }
   ],
   "source": [
    "# Q4 Solution : What does the code below print?\n",
    "pset_time = 15 \n",
    "sleep_time = 8 \n",
    "print(sleep_time > pset_time) \n",
    "derive = True \n",
    "drink = False \n",
    "both = drink and derive \n",
    "print(both)"
   ]
  },
  {
   "cell_type": "code",
   "execution_count": 13,
   "metadata": {},
   "outputs": [
    {
     "name": "stdout",
     "output_type": "stream",
     "text": [
      "['re', 'ga']\n",
      "['sa', 're', 'ga']\n",
      "['ga', 're', 'sa']\n",
      "['re', 'sa']\n",
      "['re', 'sa', ['ma', 'dha']]\n"
     ]
    }
   ],
   "source": [
    "# Q5 Solution : What is the value of L3 after you execute all the operations in the code below?\n",
    "L1 = ['re']\n",
    "L2 = ['ga']\n",
    "L3 = ['sa']\n",
    "L4 = L1 + L2\n",
    "print(L4)\n",
    "L3.extend(L4)\n",
    "print(L3)\n",
    "L3.sort()\n",
    "print(L3)\n",
    "del(L3[0])\n",
    "print(L3)\n",
    "L3.append(['ma','dha'])\n",
    "print(L3)"
   ]
  },
  {
   "cell_type": "code",
   "execution_count": 27,
   "metadata": {},
   "outputs": [
    {
     "name": "stdout",
     "output_type": "stream",
     "text": [
      "i = 10 | n = 10\n",
      "i = 5 | n = 10\n",
      "i = 2 | n = 10\n",
      "i = 1 | n = 10\n"
     ]
    }
   ],
   "source": [
    "# Q6 Solution : Find bug in the loop without coding then write the correct code.\n",
    "''' \n",
    "n = 10\n",
    "i = 10\n",
    "while i > 0:\n",
    "    print i\n",
    "    if i % 2 == 0:\n",
    "        i = i / 2\n",
    "    else:\n",
    "        i = i + 1\n",
    "'''\n",
    "# Bugs: print i & infinite loop\n",
    "\n",
    "# Corrected Code\n",
    "n = 10\n",
    "i = 10\n",
    "while(i>0):\n",
    "    print(\"i = %d | n = %d\"%(i,n))\n",
    "    if(n % 2 == 0):\n",
    "        i = i // 2\n",
    "    else:\n",
    "        i = i + 1    "
   ]
  },
  {
   "cell_type": "code",
   "execution_count": 37,
   "metadata": {},
   "outputs": [
    {
     "name": "stdout",
     "output_type": "stream",
     "text": [
      "[[0.71304801 0.45373124 0.985069   0.11285059 0.10916926]\n",
      " [0.60015859 0.85180133 0.77032906 0.40991256 0.81014067]\n",
      " [0.09614872 0.44895379 0.50701432 0.36675715 0.88810678]\n",
      " [0.04834444 0.00598675 0.95906216 0.81080452 0.67653522]]\n"
     ]
    }
   ],
   "source": [
    "# Q7 Solution\n",
    "import numpy as np\n",
    "\n",
    "def sort_array(A):\n",
    "    \n",
    "\n",
    "A = np.random.rand(4,5)\n",
    "print(A)"
   ]
  },
  {
   "cell_type": "code",
   "execution_count": 5,
   "metadata": {},
   "outputs": [
    {
     "name": "stdout",
     "output_type": "stream",
     "text": [
      "[[10 10 10]\n",
      " [13 13 13]]\n",
      "[[11 12 13]\n",
      " [10 11 12]\n",
      " [16 17 18]]\n",
      "[[5 2]\n",
      " [7 4]\n",
      " [9 6]]\n"
     ]
    }
   ],
   "source": [
    "# Q8 Solution\n",
    "''' \n",
    "Write programs to test the following NumPy broadcasting rule: \n",
    "When operating on two arrays, NumPy compares their shapes element-wise. It starts with \n",
    "the trailing or rightmost dimension and works its way left. Two dimensions are compatible \n",
    "when they are equal or one of them is 1. \n",
    "'''\n",
    "\n",
    "import numpy as np\n",
    "a = np.array([[1,2,3],[4,5,6]])\n",
    "b = np.array([[9,8,7]])\n",
    "print(a+b)\n",
    "# a(2,3) & b(1,3)\n",
    "\n",
    "a = np.array([[1,2,3]])\n",
    "b = np.array([[10],[9],[15]])\n",
    "print(a+b)\n",
    "# a(1,3) & b(3,1)\n",
    "\n",
    "a = np.array([[1],[2],[3]])\n",
    "b = np.array([[4,1],[5,2],[6,3]])\n",
    "print(a+b)\n",
    "# a(3,1) & b(3,2)"
   ]
  },
  {
   "cell_type": "code",
   "execution_count": 8,
   "metadata": {},
   "outputs": [
    {
     "name": "stdout",
     "output_type": "stream",
     "text": [
      "[110 120 130 140 150 200]\n",
      "[210 220 230 240 250  44]\n"
     ]
    }
   ],
   "source": [
    "# Q9 Solution\n",
    "''' \n",
    "Make an array with dtype = uint8 and elements of your choosing. Keep adding to it until \n",
    "(one of) the items go over 255. What do you observe? Hint: make an array, and just add a \n",
    "constant to it. The constant will be added to all the items of the array element-wise. \n",
    "'''\n",
    "A = np.array([10,20,30,40,50,100], dtype=np.uint8) # range of uint8 [0, 255]\n",
    "A = A + 100\n",
    "print(A)\n",
    "A = A + 100\n",
    "print(A)"
   ]
  }
 ],
 "metadata": {
  "kernelspec": {
   "display_name": "Python 3",
   "language": "python",
   "name": "python3"
  },
  "language_info": {
   "codemirror_mode": {
    "name": "ipython",
    "version": 3
   },
   "file_extension": ".py",
   "mimetype": "text/x-python",
   "name": "python",
   "nbconvert_exporter": "python",
   "pygments_lexer": "ipython3",
   "version": "3.12.4"
  }
 },
 "nbformat": 4,
 "nbformat_minor": 2
}
